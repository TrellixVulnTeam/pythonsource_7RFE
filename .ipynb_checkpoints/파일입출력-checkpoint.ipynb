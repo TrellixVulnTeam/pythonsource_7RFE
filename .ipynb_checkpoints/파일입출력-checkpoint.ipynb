{
 "cells": [
  {
   "cell_type": "markdown",
   "metadata": {},
   "source": [
    "## 파일 출력"
   ]
  },
  {
   "cell_type": "code",
   "execution_count": null,
   "metadata": {},
   "outputs": [],
   "source": [
    "# 기본 입출력\n",
    "# 기본출력 - print()\n",
    "# 기본입력 - input()\n",
    "\n",
    "# 파일 입출력\n",
    "# txt 파일, json 파일, xml 파일\n",
    "# open(\"파일경로\", \"모드\", encoding=\"\")\n",
    "# 모드 : r(read), w(write), a(append)\n",
    "# 파일 입력 : write(), writelines()\n",
    "# 파일 출력 : read(), readline(), readlines()"
   ]
  },
  {
   "cell_type": "code",
   "execution_count": 1,
   "metadata": {},
   "outputs": [
    {
     "name": "stdout",
     "output_type": "stream",
     "text": [
      "['_CHUNK_SIZE', '__class__', '__del__', '__delattr__', '__dict__', '__dir__', '__doc__', '__enter__', '__eq__', '__exit__', '__format__', '__ge__', '__getattribute__', '__gt__', '__hash__', '__init__', '__init_subclass__', '__iter__', '__le__', '__lt__', '__ne__', '__new__', '__next__', '__reduce__', '__reduce_ex__', '__repr__', '__setattr__', '__sizeof__', '__str__', '__subclasshook__', '_checkClosed', '_checkReadable', '_checkSeekable', '_checkWritable', '_finalizing', 'buffer', 'close', 'closed', 'detach', 'encoding', 'errors', 'fileno', 'flush', 'isatty', 'line_buffering', 'mode', 'name', 'newlines', 'read', 'readable', 'readline', 'readlines', 'reconfigure', 'seek', 'seekable', 'tell', 'truncate', 'writable', 'write', 'write_through', 'writelines']\n"
     ]
    }
   ],
   "source": [
    "# 해당파일을 열고 w: 출력용도(기존내용 덮어쓰기)\n",
    "f = open(\"data/test1.txt\",\"w\")\n",
    "print(dir(f))\n",
    "f.close()"
   ]
  },
  {
   "cell_type": "code",
   "execution_count": 2,
   "metadata": {},
   "outputs": [],
   "source": [
    "#파일에 입력\n",
    "f = open(\"data/test1.txt\",\"w\",encoding=\"utf-8\")\n",
    "f.write(\"안녕하세요\\n만나서 반갑습니다.\")\n",
    "f.close()"
   ]
  },
  {
   "cell_type": "code",
   "execution_count": 3,
   "metadata": {},
   "outputs": [],
   "source": [
    "f = open(\"data/test1.txt\",\"w\",encoding=\"utf-8\")\n",
    "for i in range(1,11):\n",
    "    data = \"%d번째 줄입니다.\\n\" % i\n",
    "    f.write(data)\n",
    "f.close()"
   ]
  },
  {
   "cell_type": "code",
   "execution_count": 4,
   "metadata": {},
   "outputs": [],
   "source": [
    "f = open(\"data/test1.txt\",\"a\",encoding=\"utf-8\") #a : append모드(기존내용에 추가하기)\n",
    "for i in range(1,11):\n",
    "    data = \"안녕하세요\\n\"\n",
    "    f.write(data)\n",
    "f.close()"
   ]
  },
  {
   "cell_type": "code",
   "execution_count": 5,
   "metadata": {},
   "outputs": [],
   "source": [
    "#리스트 값 파일에 쓰기\n",
    "f = open(\"data/test1.txt\",\"a\",encoding=\"utf-8\")\n",
    "list1 = [\"kim\\n\",\"park\\n\",\"choi\\n\"]\n",
    "f.writelines(list1)\n",
    "f.close()"
   ]
  },
  {
   "cell_type": "code",
   "execution_count": 1,
   "metadata": {},
   "outputs": [],
   "source": [
    "#with : close()자동으로 처리\n",
    "\n",
    "with open(\"data/test1.txt\",\"a\",encoding=\"utf-8\") as f:\n",
    "    list1 = [\"kim\\n\",\"park\\n\",\"choi\\n\"]\n",
    "    f.writelines(list1)"
   ]
  },
  {
   "cell_type": "code",
   "execution_count": 2,
   "metadata": {},
   "outputs": [],
   "source": [
    "with open(\"data/dict1.txt\",\"w\",encoding=\"utf-8\") as f:\n",
    "    dict1 = {\"name\":\"hong\",\"age\":25,\"addr\":\"서울\"}\n",
    "    for k,v in dict1.items():\n",
    "        f.writelines(\"{} : {}\\n\".format(k,v))"
   ]
  },
  {
   "cell_type": "code",
   "execution_count": 58,
   "metadata": {},
   "outputs": [],
   "source": [
    "# 1000명의 키와 몸무게를 랜덤하게 생성해 파일에 기록하기\n",
    "import random\n",
    "\n",
    "# list() => 괄호안의 데이터들을 리스트형태로 생성\n",
    "hanguls = list(\"가나다라마바사아자차카타파하\")\n",
    "\n",
    "with open(\"data/info.txt\",\"w\",encoding=\"utf-8\") as f:\n",
    "    for i in range(1000):\n",
    "        # 랜덤 이름 생성\n",
    "        name = random.choice(hanguls)+random.choice(hanguls)\n",
    "        # 랜덤 키 생성\n",
    "        height = random.randrange(150, 190)\n",
    "        # 랜덤 몸무게 생성\n",
    "        weight = random.randrange(40, 100)\n",
    "        f.writelines(\"{}, {}, {}\\n\".format(name, height, weight))"
   ]
  },
  {
   "cell_type": "markdown",
   "metadata": {},
   "source": [
    "## 파일 입력"
   ]
  },
  {
   "cell_type": "code",
   "execution_count": 5,
   "metadata": {},
   "outputs": [
    {
     "name": "stdout",
     "output_type": "stream",
     "text": [
      "The film, projected in the form of animation,\n",
      "imparts the lesson of how wars can be eluded through reasoning and peaceful dialogues,\n",
      "which eventually paves the path for gaining a fresh perspective on an age-old problem.\n",
      "The story also happens to centre around two parallel characters, Shundi King and Hundi King,\n",
      "who are twins, but they constantly fight over unresolved issues planted in their minds\n",
      "by external forces from within their very own units.\n",
      "\n"
     ]
    }
   ],
   "source": [
    "f = open(\"data/review.txt\",\"r\",encoding=\"utf-8\")\n",
    "content = f.read()\n",
    "print(content)\n",
    "f.close()"
   ]
  },
  {
   "cell_type": "code",
   "execution_count": 6,
   "metadata": {},
   "outputs": [
    {
     "name": "stdout",
     "output_type": "stream",
     "text": [
      "The film, projected in the form of animation,\n",
      "imparts the lesson of how wars can be eluded through reasoning and peaceful dialogues,\n",
      "which eventually paves the path for gaining a fresh perspective on an age-old problem.\n",
      "The story also happens to centre around two parallel characters, Shundi King and Hundi King,\n",
      "who are twins, but they constantly fight over unresolved issues planted in their minds\n",
      "by external forces from within their very own units.\n",
      "\n"
     ]
    }
   ],
   "source": [
    "with open(\"data/review.txt\",\"r\",encoding=\"utf-8\") as f:\n",
    "    content = f.read()\n",
    "    print(content)"
   ]
  },
  {
   "cell_type": "code",
   "execution_count": 8,
   "metadata": {},
   "outputs": [
    {
     "name": "stdout",
     "output_type": "stream",
     "text": [
      "The film, projected in the form of animation,\n",
      "imparts the lesson of how wars can be eluded through reasoning and peaceful dialogues,\n",
      "which eventually paves the path for gaining a fresh perspective on an age-old problem.\n",
      "The story also happens to centre around two parallel characters, Shundi King and Hundi King,\n",
      "who are twins, but they constantly fight over unresolved issues planted in their minds\n",
      "by external forces from within their very own units.\n"
     ]
    }
   ],
   "source": [
    "with open(\"data/review.txt\",\"r\",encoding=\"utf-8\") as f:\n",
    "    for c in f:\n",
    "   #     print(c) #엔터 포함한 한줄씩 출력\n",
    "        print(c.strip())#줄바꿈 제거후 출력"
   ]
  },
  {
   "cell_type": "code",
   "execution_count": 11,
   "metadata": {},
   "outputs": [
    {
     "name": "stdout",
     "output_type": "stream",
     "text": [
      "The film, projected in the form of animation,\n",
      "imparts the lesson of how wars can be eluded through reasoning and peaceful dialogues,\n",
      "which eventually paves the path for gaining a fresh perspective on an age-old problem.\n",
      "The story also happens to centre around two parallel characters, Shundi King and Hundi King,\n",
      "who are twins, but they constantly fight over unresolved issues planted in their minds\n",
      "by external forces from within their very own units.\n"
     ]
    }
   ],
   "source": [
    "with open(\"data/review.txt\",\"r\",encoding=\"utf-8\") as f:\n",
    "    line = f.readline() #줄단위로 읽어오기\n",
    "    while line: #전체 불러오기시 while문 사용\n",
    "        print(line,end=\"\")\n",
    "        line = f.readline()"
   ]
  },
  {
   "cell_type": "code",
   "execution_count": 12,
   "metadata": {},
   "outputs": [
    {
     "name": "stdout",
     "output_type": "stream",
     "text": [
      "['The film, projected in the form of animation,\\n', 'imparts the lesson of how wars can be eluded through reasoning and peaceful dialogues,\\n', 'which eventually paves the path for gaining a fresh perspective on an age-old problem.\\n', 'The story also happens to centre around two parallel characters, Shundi King and Hundi King,\\n', 'who are twins, but they constantly fight over unresolved issues planted in their minds\\n', 'by external forces from within their very own units.\\n']\n"
     ]
    }
   ],
   "source": [
    "with open(\"data/review.txt\",\"r\",encoding=\"utf-8\") as f:\n",
    "    print(f.readlines()) #결과를 리스트로 돌려받기 \\n단위"
   ]
  },
  {
   "cell_type": "code",
   "execution_count": 16,
   "metadata": {},
   "outputs": [
    {
     "name": "stdout",
     "output_type": "stream",
     "text": [
      "[95, 78, 92, 89, 100, 66]\n",
      "총점 : 520\n",
      "평균 : 86.667\n"
     ]
    }
   ],
   "source": [
    "# 리스트 생성후 append\n",
    "score=[]\n",
    "\n",
    "with open(\"data/score.txt\",\"r\",encoding=\"utf-8\") as f:\n",
    "    for num in f:\n",
    "        score.append(int(num))\n",
    "    print(score)\n",
    "    \n",
    "#총점과 평균을 구한 후 출력하기\n",
    "print(\"총점 : {}\".format(sum(score)))\n",
    "print(\"평균 : {:0.3f}\".format(sum(score) / len(score)))"
   ]
  },
  {
   "cell_type": "code",
   "execution_count": 19,
   "metadata": {},
   "outputs": [
    {
     "name": "stdout",
     "output_type": "stream",
     "text": [
      "[95, 78, 92, 89, 100, 66]\n"
     ]
    }
   ],
   "source": [
    "# score.txt를 읽어서 총점과 평균을 구한 후 result.txt 파일에 쓰기\n",
    "\n",
    "score=[]\n",
    "\n",
    "with open(\"data/score.txt\",\"r\",encoding=\"utf-8\") as f:\n",
    "    for num in f:\n",
    "        score.append(int(num))\n",
    "    print(score)\n",
    "    \n",
    "#총점과 평균을 구한 후 출력하기\n",
    "with open(\"data/result.txt\",\"w\",encoding=\"utf-8\") as f1:\n",
    "    f1.write(\"총점 : {}\\n\".format(sum(score)))\n",
    "    f1.write(\"평균 : {:0.3f}\".format(sum(score) / len(score)))"
   ]
  },
  {
   "cell_type": "code",
   "execution_count": 25,
   "metadata": {},
   "outputs": [
    {
     "name": "stdout",
     "output_type": "stream",
     "text": [
      "파일명을 입력해 주세요dict1.txt\n",
      "저장할 폴더와 이름을 입력하세요c:\\exam.txt\n"
     ]
    }
   ],
   "source": [
    "#os 파일명을 입력받아 \n",
    "import os\n",
    "\n",
    "content = \"\"\n",
    "fName = \"\"\n",
    "\n",
    "fName = input(\"파일명을 입력해 주세요 \")\n",
    "path = \"data/\"+ fName\n",
    "\n",
    "if os.path.exists(path):\n",
    "     with open(path, \"r\", encoding=\"utf-8\") as inFp:\n",
    "        content = inFp.read()\n",
    "        \n",
    "        oName = input(\"저장할 폴더와 이름을 입력하세요\")\n",
    "    \n",
    "     with open(oName, \"w\", encoding=\"utf-8\") as outFp:\n",
    "            outFp.writelines(content)\n",
    "else:\n",
    "    print(\"%s 파일이 없습니다.\" % fName)"
   ]
  },
  {
   "cell_type": "code",
   "execution_count": 60,
   "metadata": {},
   "outputs": [
    {
     "name": "stdout",
     "output_type": "stream",
     "text": [
      "이름 : 타파\n",
      "몸무게 : 85\n",
      "키 : 182\n",
      "BMI : 25.661152034778407\n",
      "결과 : 과체중\n",
      "\n"
     ]
    }
   ],
   "source": [
    "# info.txt 파일을 읽어서 BMI 지수를 계산한 후 출력하기\n",
    "\n",
    "# BMI = 몸무게 / (키/100) **(제곱) 2\n",
    "# 계산값이 >= 25 과체중, >=18.5 정상체중, 저체중\n",
    "\n",
    "# 출력문\n",
    "# 이름 : 가가\n",
    "# 몸무게 : 72\n",
    "# 키 : 146\n",
    "# BMI : 계산값 출력\n",
    "# 결과 : 과체중\n",
    "\n",
    "with open(\"data/info.txt\",\"r\",encoding=\"utf-8\") as f:\n",
    "    for info in f:\n",
    "        name, height, weight = info.strip().split(\", \")\n",
    "        # print(name, height, weight)  \n",
    "    bmi = int(weight) / (int(height)/100)**2\n",
    "    \n",
    "    result = \"\"\n",
    "    if 25 <= bmi:\n",
    "        result = \"과체중\"\n",
    "    elif 18.5 <= bmi:\n",
    "        result = \"정상체중\"\n",
    "    else:\n",
    "        result = \"저체중\"\n",
    "        \n",
    "    print(\"이름 : {}\".format(name))\n",
    "    print(\"몸무게 : {}\".format(weight))\n",
    "    print(\"키 : {}\".format(height))\n",
    "    print(\"BMI : {}\".format(bmi))\n",
    "    print(\"결과 : {}\".format(result))\n",
    "    print()"
   ]
  },
  {
   "cell_type": "code",
   "execution_count": 34,
   "metadata": {},
   "outputs": [],
   "source": [
    "# 이진 파일 처리 -b (파일 옮기기)\n",
    "# rb : readbinary / wb : writebinary\n",
    "\n",
    "data = \"\"\n",
    "\n",
    "with open(\"c:/windows/notepad.exe\",\"rb\") as f1:\n",
    "    data = f1.read()\n",
    "    \n",
    "with open(\"c:/temp/notepad.exe\",\"wb\") as f2:\n",
    "    f2.write(data)"
   ]
  },
  {
   "cell_type": "code",
   "execution_count": null,
   "metadata": {},
   "outputs": [],
   "source": []
  },
  {
   "cell_type": "code",
   "execution_count": null,
   "metadata": {},
   "outputs": [],
   "source": []
  }
 ],
 "metadata": {
  "kernelspec": {
   "display_name": "Python 3",
   "language": "python",
   "name": "python3"
  },
  "language_info": {
   "codemirror_mode": {
    "name": "ipython",
    "version": 3
   },
   "file_extension": ".py",
   "mimetype": "text/x-python",
   "name": "python",
   "nbconvert_exporter": "python",
   "pygments_lexer": "ipython3",
   "version": "3.8.5"
  }
 },
 "nbformat": 4,
 "nbformat_minor": 4
}
