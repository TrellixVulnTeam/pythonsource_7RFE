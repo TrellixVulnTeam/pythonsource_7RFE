{
 "cells": [
  {
   "cell_type": "markdown",
   "metadata": {},
   "source": [
    "## 딕셔너리 : key, value 형태\n",
    "## 자바의 map"
   ]
  },
  {
   "cell_type": "code",
   "execution_count": 6,
   "metadata": {},
   "outputs": [
    {
     "name": "stdout",
     "output_type": "stream",
     "text": [
      "{'name': 'Kim', 'age': 12}\n",
      "Kim\n"
     ]
    }
   ],
   "source": [
    "dic1 = {\"name\": \"Kim\", \"age\":12}\n",
    "print(dic1)\n",
    "print(dic1[\"name\"]) #key값만 넣어서 value값 출력\n",
    "#print(dec1['addr']) #없는 데이터 요청시 KeyError"
   ]
  },
  {
   "cell_type": "code",
   "execution_count": 2,
   "metadata": {},
   "outputs": [
    {
     "name": "stdout",
     "output_type": "stream",
     "text": [
      "{0: 'Kim', 1: 12}\n"
     ]
    }
   ],
   "source": [
    "dic2 = {0: \"Kim\", 1:12}\n",
    "print(dic2)"
   ]
  },
  {
   "cell_type": "code",
   "execution_count": 3,
   "metadata": {},
   "outputs": [
    {
     "name": "stdout",
     "output_type": "stream",
     "text": [
      "{'arr': [1, 2, 3, 4, 5]}\n"
     ]
    }
   ],
   "source": [
    "dic3 = {\"arr\":[1,2,3,4,5]}\n",
    "print(dic3)"
   ]
  },
  {
   "cell_type": "code",
   "execution_count": 7,
   "metadata": {},
   "outputs": [
    {
     "name": "stdout",
     "output_type": "stream",
     "text": [
      "{'name': 'Kim', 'age': 12, 'birth': '1115'}\n"
     ]
    }
   ],
   "source": [
    "# 추가\n",
    "\n",
    "dic1['birth'] = '1115'\n",
    "print(dic1)"
   ]
  },
  {
   "cell_type": "code",
   "execution_count": 8,
   "metadata": {},
   "outputs": [
    {
     "name": "stdout",
     "output_type": "stream",
     "text": [
      "{0: 'Kim', 1: 12, 2: ['Hello Python', 'Hello JSP']}\n"
     ]
    }
   ],
   "source": [
    "dic2[2] = ['Hello Python','Hello JSP']\n",
    "print(dic2)"
   ]
  },
  {
   "cell_type": "code",
   "execution_count": 9,
   "metadata": {},
   "outputs": [
    {
     "name": "stdout",
     "output_type": "stream",
     "text": [
      "{'arr': [1, 2, 3, 4, 5], 'rank': (16, 17, 18)}\n"
     ]
    }
   ],
   "source": [
    "dic3['rank'] = (16,17,18)\n",
    "print(dic3)"
   ]
  },
  {
   "cell_type": "code",
   "execution_count": 10,
   "metadata": {},
   "outputs": [
    {
     "name": "stdout",
     "output_type": "stream",
     "text": [
      "{1: 3, 2: 4, 6: 1, 8: 2, 4: 3, 3: 3, 9: 3, 5: 2, 7: 2}\n"
     ]
    }
   ],
   "source": [
    "numbers = [1,2,6,8,4,3,2,1,9,5,4,9,7,2,1,3,5,4,8,9,7,2,3]\n",
    "\n",
    "# numbers 내부에 들어 있는 숫자가 각각 몇번씩 등장하는지를 출력\n",
    "# {1:3,2:4,6:1...}\n",
    "\n",
    "counter = {}\n",
    "for num in numbers:\n",
    "    counter[num] = numbers.count(num)\n",
    "print(counter)"
   ]
  },
  {
   "cell_type": "code",
   "execution_count": 11,
   "metadata": {},
   "outputs": [
    {
     "name": "stdout",
     "output_type": "stream",
     "text": [
      "{'name': 'Kim', 'age': 12}\n"
     ]
    }
   ],
   "source": [
    "del dic1['birth'] #특정키 삭제\n",
    "print(dic1)"
   ]
  },
  {
   "cell_type": "code",
   "execution_count": null,
   "metadata": {},
   "outputs": [],
   "source": []
  },
  {
   "cell_type": "code",
   "execution_count": 13,
   "metadata": {},
   "outputs": [
    {
     "name": "stdout",
     "output_type": "stream",
     "text": [
      "dict_keys(['name', 'age'])\n"
     ]
    }
   ],
   "source": [
    "# 관련 함수\n",
    "\n",
    "#키값만 가져오기\n",
    "print(dic1.keys())"
   ]
  },
  {
   "cell_type": "code",
   "execution_count": 14,
   "metadata": {},
   "outputs": [
    {
     "name": "stdout",
     "output_type": "stream",
     "text": [
      "dict_values(['Kim', 12])\n"
     ]
    }
   ],
   "source": [
    "# value만 가져오기\n",
    "print(dic1.values())"
   ]
  },
  {
   "cell_type": "code",
   "execution_count": 15,
   "metadata": {},
   "outputs": [
    {
     "name": "stdout",
     "output_type": "stream",
     "text": [
      "dict_items([('name', 'Kim'), ('age', 12)])\n"
     ]
    }
   ],
   "source": [
    "# (key,value) 쌍 형태\n",
    "print(dic1.items())"
   ]
  },
  {
   "cell_type": "code",
   "execution_count": 17,
   "metadata": {},
   "outputs": [
    {
     "name": "stdout",
     "output_type": "stream",
     "text": [
      "None\n"
     ]
    }
   ],
   "source": [
    "#데이터 없을시 None 출력\n",
    "\n",
    "print(dic1.get('birth'))"
   ]
  },
  {
   "cell_type": "code",
   "execution_count": 18,
   "metadata": {},
   "outputs": [
    {
     "ename": "KeyError",
     "evalue": "'birth'",
     "output_type": "error",
     "traceback": [
      "\u001b[1;31m---------------------------------------------------------------------------\u001b[0m",
      "\u001b[1;31mKeyError\u001b[0m                                  Traceback (most recent call last)",
      "\u001b[1;32m<ipython-input-18-0df7ef433c7e>\u001b[0m in \u001b[0;36m<module>\u001b[1;34m\u001b[0m\n\u001b[1;32m----> 1\u001b[1;33m \u001b[0mprint\u001b[0m\u001b[1;33m(\u001b[0m\u001b[0mdic1\u001b[0m\u001b[1;33m[\u001b[0m\u001b[1;34m'birth'\u001b[0m\u001b[1;33m]\u001b[0m\u001b[1;33m)\u001b[0m\u001b[1;33m\u001b[0m\u001b[1;33m\u001b[0m\u001b[0m\n\u001b[0m",
      "\u001b[1;31mKeyError\u001b[0m: 'birth'"
     ]
    }
   ],
   "source": [
    "# print(dic1['birth']) 없는거 요청시 keyerror"
   ]
  },
  {
   "cell_type": "code",
   "execution_count": 19,
   "metadata": {},
   "outputs": [
    {
     "name": "stdout",
     "output_type": "stream",
     "text": [
      "True\n"
     ]
    }
   ],
   "source": [
    "print(\"name\" in dic1) #검증"
   ]
  },
  {
   "cell_type": "code",
   "execution_count": 20,
   "metadata": {},
   "outputs": [
    {
     "name": "stdout",
     "output_type": "stream",
     "text": [
      "{}\n"
     ]
    }
   ],
   "source": [
    "#모든항목 삭제\n",
    "dic1.clear()\n",
    "print(dic1)"
   ]
  },
  {
   "cell_type": "code",
   "execution_count": 22,
   "metadata": {},
   "outputs": [
    {
     "name": "stdout",
     "output_type": "stream",
     "text": [
      "name\n",
      "age\n",
      "city\n"
     ]
    }
   ],
   "source": [
    "myinfo = {\"name\":\"Kim\",\"age\":25,\"city\":\"seoul\"}\n",
    "\n",
    "for key in myinfo.keys():\n",
    "    print(key) #for문 이용한 key 값만 출력"
   ]
  },
  {
   "cell_type": "code",
   "execution_count": 23,
   "metadata": {},
   "outputs": [
    {
     "name": "stdout",
     "output_type": "stream",
     "text": [
      "Kim\n",
      "25\n",
      "seoul\n"
     ]
    }
   ],
   "source": [
    "for v in myinfo.values():\n",
    "    print(v) #for문 이용한 value 값만 출력"
   ]
  },
  {
   "cell_type": "code",
   "execution_count": 24,
   "metadata": {},
   "outputs": [
    {
     "name": "stdout",
     "output_type": "stream",
     "text": [
      "name Kim\n",
      "age 25\n",
      "city seoul\n"
     ]
    }
   ],
   "source": [
    "for k,v in myinfo.items():\n",
    "    print(k,v)"
   ]
  },
  {
   "cell_type": "code",
   "execution_count": 30,
   "metadata": {},
   "outputs": [
    {
     "name": "stdout",
     "output_type": "stream",
     "text": [
      "사과\n",
      "사과\n",
      "사과\n"
     ]
    }
   ],
   "source": [
    "# 아래 딕셔너리에서 '가을'에 해당하는 과일을 출력하기\n",
    "dict2 ={\"봄\":\"딸기\",\"여름\":\"토마토\",\"가을\":\"사과\"}\n",
    "\n",
    "print(dict2['가을'])\n",
    "\n",
    "for k in dict2.keys():\n",
    "    if k == \"가을\":\n",
    "        print(dict2[k])\n",
    "        \n",
    "for k,v in dict2.items():\n",
    "    if k == \"가을\":\n",
    "        print(v)"
   ]
  },
  {
   "cell_type": "code",
   "execution_count": 29,
   "metadata": {},
   "outputs": [
    {
     "name": "stdout",
     "output_type": "stream",
     "text": [
      "사과가 포함됨\n"
     ]
    }
   ],
   "source": [
    "#위의 딕셔너리에서 '사과'가 포함되었는지 출력하기\n",
    "\n",
    "for v in dict2.values():\n",
    "    if v == \"사과\":\n",
    "        print(\"사과가 포함됨\")\n",
    "        break\n",
    "else:\n",
    "    print(\"사과가 포함되지 않음\")"
   ]
  },
  {
   "cell_type": "code",
   "execution_count": 32,
   "metadata": {},
   "outputs": [
    {
     "name": "stdout",
     "output_type": "stream",
     "text": [
      "{'토마토', '사과', '딸기'}\n"
     ]
    }
   ],
   "source": [
    "# comprehension\n",
    "fruits={fruit for fruit in dict2.values()} #values만 출력하여 fruits 에 담음\n",
    "\n",
    "print(fruits)"
   ]
  },
  {
   "cell_type": "code",
   "execution_count": 33,
   "metadata": {},
   "outputs": [
    {
     "name": "stdout",
     "output_type": "stream",
     "text": [
      "{'토마토', '딸기'}\n"
     ]
    }
   ],
   "source": [
    "fruits={fruit for fruit in dict2.values() if fruit !=\"사과\"}\n",
    "\n",
    "print(fruits)"
   ]
  },
  {
   "cell_type": "code",
   "execution_count": 34,
   "metadata": {},
   "outputs": [
    {
     "name": "stdout",
     "output_type": "stream",
     "text": [
      "{('여름', '토마토'), ('봄', '딸기')}\n"
     ]
    }
   ],
   "source": [
    "fruits={(key,value) for (key, value) in dict2.items() if value !=\"사과\"} #key,value 쌍으로 출력\n",
    "\n",
    "print(fruits)"
   ]
  },
  {
   "cell_type": "code",
   "execution_count": null,
   "metadata": {},
   "outputs": [],
   "source": []
  },
  {
   "cell_type": "code",
   "execution_count": 40,
   "metadata": {},
   "outputs": [
    {
     "name": "stdout",
     "output_type": "stream",
     "text": [
      "{'A': 90, 'B': 80, 'C': 70}\n",
      "80\n",
      "{'A': 90, 'C': 70}\n"
     ]
    }
   ],
   "source": [
    "# 딕셔너리를 생성하기\n",
    "# 'A' :90,'B':80, 'C':70\n",
    "str = {'A' :90,'B':80, 'C':70}\n",
    "print(str)\n",
    "\n",
    "#생성된 딕셔너리에서 B키에 해당하는 값만 출력\n",
    "print(str['B'])\n",
    "\n",
    "#B 키 값을 삭제한 후 딕셔너리를 출력\n",
    "del str['B']\n",
    "print(str)"
   ]
  },
  {
   "cell_type": "code",
   "execution_count": 42,
   "metadata": {},
   "outputs": [
    {
     "name": "stdout",
     "output_type": "stream",
     "text": [
      "{'성인': 10000, '청소년': 7000, '아동': 3000}\n",
      "{'성인': 10000, '청소년': 7000, '아동': 3000, '소아': '0'}\n",
      "dict_keys(['성인', '청소년', '아동', '소아'])\n",
      "dict_values([10000, 7000, 3000, '0'])\n"
     ]
    }
   ],
   "source": [
    "#딕셔너리 생성\n",
    "# \"성인\" : 10000, \"청소년\" : 7000, \"아동\": 3000\n",
    "price = {\"성인\" : 10000, \"청소년\" : 7000, \"아동\": 3000}\n",
    "print(price)\n",
    "\n",
    "#생성된 딕셔너리에 \"소아\" :0 추가하기\n",
    "price['소아'] = '0'\n",
    "print(price)\n",
    "\n",
    "#현재 딕셔너리의 key 값만 출력하기\n",
    "print(price.keys())\n",
    "\n",
    "#현재 딕셔너리의 value값만 출력하기\n",
    "print(price.values())"
   ]
  },
  {
   "cell_type": "code",
   "execution_count": 45,
   "metadata": {},
   "outputs": [],
   "source": [
    "character = {\n",
    "    \"name\":\"기사\",\n",
    "    \"level\":12,\n",
    "    \"items\":{\"sword\":\"불꽃의 검\",\"armor\":\"플레이트\"},\n",
    "    \"skill\":[\"베기\",\"세게 베기\",\"아주 세게 베기\"]    \n",
    "}"
   ]
  },
  {
   "cell_type": "code",
   "execution_count": 46,
   "metadata": {},
   "outputs": [
    {
     "data": {
      "text/plain": [
       "dict"
      ]
     },
     "execution_count": 46,
     "metadata": {},
     "output_type": "execute_result"
    }
   ],
   "source": [
    "type(character)"
   ]
  },
  {
   "cell_type": "code",
   "execution_count": 48,
   "metadata": {},
   "outputs": [
    {
     "name": "stdout",
     "output_type": "stream",
     "text": [
      "name : 기\n",
      "name : 사\n",
      "level : 12\n",
      "sword : 불꽃의 검\n",
      "armor : 플레이트\n",
      "skill : 베기\n",
      "skill : 세게 베기\n",
      "skill : 아주 세게 베기\n"
     ]
    }
   ],
   "source": [
    "for key in character:\n",
    "    type1 = type(character[key])\n",
    "    \n",
    "    if type1 != dict:\n",
    "        if (type1 == str) | (type1 == int):\n",
    "            print(\"{} : {}\".format(key,character[key]))\n",
    "        else:\n",
    "            for item in character[key]:\n",
    "                print(\"{} : {}\".format(key, item))\n",
    "    else:\n",
    "        for subkey in character[key]:\n",
    "            print(subkey, \":\", character[key][subkey])"
   ]
  },
  {
   "cell_type": "code",
   "execution_count": 49,
   "metadata": {},
   "outputs": [
    {
     "name": "stdout",
     "output_type": "stream",
     "text": [
      "불꽃의 검\n"
     ]
    }
   ],
   "source": [
    "print(character[\"items\"][\"sword\"])"
   ]
  },
  {
   "cell_type": "code",
   "execution_count": null,
   "metadata": {},
   "outputs": [],
   "source": []
  },
  {
   "cell_type": "code",
   "execution_count": null,
   "metadata": {},
   "outputs": [],
   "source": []
  },
  {
   "cell_type": "code",
   "execution_count": null,
   "metadata": {},
   "outputs": [],
   "source": []
  }
 ],
 "metadata": {
  "kernelspec": {
   "display_name": "Python 3",
   "language": "python",
   "name": "python3"
  },
  "language_info": {
   "codemirror_mode": {
    "name": "ipython",
    "version": 3
   },
   "file_extension": ".py",
   "mimetype": "text/x-python",
   "name": "python",
   "nbconvert_exporter": "python",
   "pygments_lexer": "ipython3",
   "version": "3.8.5"
  }
 },
 "nbformat": 4,
 "nbformat_minor": 4
}
