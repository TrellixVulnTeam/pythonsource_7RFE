{
 "cells": [
  {
   "cell_type": "markdown",
   "metadata": {},
   "source": [
    "### 문자처리\n",
    "- 쌍따옴표, 홑따옴표로 표현\n",
    "- 쌍따옴표 3개, 홑따옴표 3개 가능\n",
    "- 문자와 문자열의 구분이 없음\n",
    "- 인덱싱과 슬라이싱 개념 중요함"
   ]
  },
  {
   "cell_type": "code",
   "execution_count": 1,
   "metadata": {},
   "outputs": [
    {
     "name": "stdout",
     "output_type": "stream",
     "text": [
      "Life is too short, You need Python.\n"
     ]
    }
   ],
   "source": [
    "a = \"Life is too short, You need Python.\"\n",
    "print(a)"
   ]
  },
  {
   "cell_type": "code",
   "execution_count": 3,
   "metadata": {},
   "outputs": [
    {
     "name": "stdout",
     "output_type": "stream",
     "text": [
      "Life is too short, You need Python.\n"
     ]
    }
   ],
   "source": [
    "a = 'Life is too short, You need Python.'\n",
    "print(a)"
   ]
  },
  {
   "cell_type": "code",
   "execution_count": 4,
   "metadata": {},
   "outputs": [
    {
     "name": "stdout",
     "output_type": "stream",
     "text": [
      "Life is too short, You need Python.\n"
     ]
    }
   ],
   "source": [
    "a = \"\"\"Life is too short, You need Python.\"\"\"\n",
    "print(a)"
   ]
  },
  {
   "cell_type": "code",
   "execution_count": 5,
   "metadata": {},
   "outputs": [
    {
     "name": "stdout",
     "output_type": "stream",
     "text": [
      "Life is too short, You need Python.\n"
     ]
    }
   ],
   "source": [
    "a = '''Life is too short, You need Python.'''\n",
    "print(a)"
   ]
  },
  {
   "cell_type": "markdown",
   "metadata": {},
   "source": [
    "- 문자열 응용 : +(결합), *(복제)"
   ]
  },
  {
   "cell_type": "code",
   "execution_count": 7,
   "metadata": {},
   "outputs": [
    {
     "name": "stdout",
     "output_type": "stream",
     "text": [
      "Python is fun\n"
     ]
    }
   ],
   "source": [
    "print(\"Python\"+\" is fun\")"
   ]
  },
  {
   "cell_type": "code",
   "execution_count": 8,
   "metadata": {},
   "outputs": [
    {
     "name": "stdout",
     "output_type": "stream",
     "text": [
      "pythonpython\n"
     ]
    }
   ],
   "source": [
    "print(\"python\"*2)"
   ]
  },
  {
   "cell_type": "code",
   "execution_count": 9,
   "metadata": {},
   "outputs": [
    {
     "name": "stdout",
     "output_type": "stream",
     "text": [
      "**************************************************\n",
      "My Program\n",
      "**************************************************\n"
     ]
    }
   ],
   "source": [
    "print(\"*\"*50)\n",
    "print(\"My Program\")\n",
    "print(\"*\"*50)"
   ]
  },
  {
   "cell_type": "markdown",
   "metadata": {},
   "source": [
    "- 문자열 인덱싱과 슬라이싱"
   ]
  },
  {
   "cell_type": "code",
   "execution_count": 10,
   "metadata": {},
   "outputs": [
    {
     "name": "stdout",
     "output_type": "stream",
     "text": [
      "e\n"
     ]
    }
   ],
   "source": [
    "str1 = \"Life is too short\"\n",
    "print(str1[3]) #인덱싱 : 0부터 시작"
   ]
  },
  {
   "cell_type": "code",
   "execution_count": 13,
   "metadata": {},
   "outputs": [
    {
     "name": "stdout",
     "output_type": "stream",
     "text": [
      "t\n"
     ]
    }
   ],
   "source": [
    "print(str1[-1]) #음수로 값을 주게 되면뒤에서부터 인덱싱 시작"
   ]
  },
  {
   "cell_type": "code",
   "execution_count": 15,
   "metadata": {},
   "outputs": [
    {
     "name": "stdout",
     "output_type": "stream",
     "text": [
      "Life\n"
     ]
    }
   ],
   "source": [
    "print(str1[0:4]) # 슬라이싱(잘라내기) : 0~4까지 출력 4는 포함하지 않음"
   ]
  },
  {
   "cell_type": "code",
   "execution_count": 17,
   "metadata": {},
   "outputs": [
    {
     "name": "stdout",
     "output_type": "stream",
     "text": [
      "is\n"
     ]
    }
   ],
   "source": [
    "print(str1[5:7]) #is만 출력"
   ]
  },
  {
   "cell_type": "code",
   "execution_count": 18,
   "metadata": {},
   "outputs": [
    {
     "name": "stdout",
     "output_type": "stream",
     "text": [
      "oo short\n"
     ]
    }
   ],
   "source": [
    "print(str1[9:]) #9부터 출력"
   ]
  },
  {
   "cell_type": "code",
   "execution_count": null,
   "metadata": {},
   "outputs": [],
   "source": [
    "print(str1[:17]) #17까지 출력"
   ]
  },
  {
   "cell_type": "code",
   "execution_count": 19,
   "metadata": {},
   "outputs": [
    {
     "name": "stdout",
     "output_type": "stream",
     "text": [
      "Life is too s\n"
     ]
    }
   ],
   "source": [
    "print(str1[0:-4])"
   ]
  },
  {
   "cell_type": "code",
   "execution_count": 20,
   "metadata": {},
   "outputs": [
    {
     "name": "stdout",
     "output_type": "stream",
     "text": [
      "문자열 길이  17\n"
     ]
    }
   ],
   "source": [
    "# 문자열 길이 함수\n",
    "\n",
    "print(\"문자열 길이 \",len(str1))"
   ]
  },
  {
   "cell_type": "code",
   "execution_count": 25,
   "metadata": {},
   "outputs": [
    {
     "name": "stdout",
     "output_type": "stream",
     "text": [
      "20210216\n",
      "Sunny\n"
     ]
    }
   ],
   "source": [
    "str2 = \"20210216Sunny\"\n",
    "\n",
    "# 날짜와 날씨 나눠서 출력하기\n",
    "date = str2[0:8]\n",
    "weather = str2[8:]\n",
    "\n",
    "print(date)\n",
    "print(weather)"
   ]
  },
  {
   "cell_type": "code",
   "execution_count": 27,
   "metadata": {},
   "outputs": [
    {
     "name": "stdout",
     "output_type": "stream",
     "text": [
      "2021-02-16\n"
     ]
    }
   ],
   "source": [
    "#날짜를 2021-02-16 출력하기\n",
    "year = date[0:4]\n",
    "month = date[4:6]\n",
    "day = date[6:]\n",
    "print(year, month, day, sep=\"-\") #sep: 문자열을 공백으로 인식하지 않음"
   ]
  },
  {
   "cell_type": "code",
   "execution_count": 28,
   "metadata": {},
   "outputs": [
    {
     "name": "stdout",
     "output_type": "stream",
     "text": [
      "남자\n"
     ]
    }
   ],
   "source": [
    "Jumin = \"901205-3334567\"\n",
    "\n",
    "no = Jumin[7]\n",
    "# 주민등록번호에서 일곱번째 자리 숫자를 이용해서 남, 여 판별 후 출력하기\n",
    "# 1,3:남자, 2,4: 여자\n",
    "\n",
    "if no== \"1\" or no==\"3\":\n",
    "    print(\"남자\")\n",
    "elif no == \"2\" or no==\"4\":\n",
    "    print(\"여자\")"
   ]
  },
  {
   "cell_type": "code",
   "execution_count": 29,
   "metadata": {},
   "outputs": [
    {
     "name": "stdout",
     "output_type": "stream",
     "text": [
      "남자\n"
     ]
    }
   ],
   "source": [
    "if int(no) % 2 ==1:\n",
    "    print(\"남자\")\n",
    "else:\n",
    "    print(\"여자\")"
   ]
  },
  {
   "cell_type": "code",
   "execution_count": 30,
   "metadata": {},
   "outputs": [
    {
     "name": "stdout",
     "output_type": "stream",
     "text": [
      "대$한$민$국$"
     ]
    }
   ],
   "source": [
    "str3 = \"대한민국\" #대$한$민$국$\n",
    "\n",
    "for s in str3:\n",
    "    print(s+\"$\",end='')"
   ]
  },
  {
   "cell_type": "code",
   "execution_count": 31,
   "metadata": {},
   "outputs": [
    {
     "name": "stdout",
     "output_type": "stream",
     "text": [
      "대$한$민$국$"
     ]
    }
   ],
   "source": [
    "for s in str3:\n",
    "    print(s,end='$')"
   ]
  },
  {
   "cell_type": "code",
   "execution_count": 1,
   "metadata": {},
   "outputs": [
    {
     "name": "stdout",
     "output_type": "stream",
     "text": [
      "숫자를 입력하세요4321\n",
      "♥♥♥♥\n",
      "♥♥♥\n",
      "♥♥\n",
      "♥\n"
     ]
    }
   ],
   "source": [
    "# 입력받은 숫자만큼 하트 출력\n",
    "\n",
    "#54321\n",
    "# ♥♥♥♥♥\n",
    "# ♥♥♥♥\n",
    "# ♥♥♥\n",
    "# ♥♥\n",
    "# ♥\n",
    "\n",
    "str4 = input(\"숫자를 입력하세요\")\n",
    "for i in range(len(str4)):\n",
    "    for j in range(int(str4[i])):\n",
    "        print(\"♥\",end=\"\")\n",
    "    print()"
   ]
  },
  {
   "cell_type": "markdown",
   "metadata": {},
   "source": [
    "- 문자열 관련 함수"
   ]
  },
  {
   "cell_type": "code",
   "execution_count": 2,
   "metadata": {},
   "outputs": [
    {
     "name": "stdout",
     "output_type": "stream",
     "text": [
      "a 문자열에 포함된 b 문자열 개수 :  2\n"
     ]
    }
   ],
   "source": [
    "# count : 문자열에 포함된 특정 문자열 개수\n",
    "\n",
    "a = \"hobby\"\n",
    "print(\"a 문자열에 포함된 b 문자열 개수 : \", a.count('b'))"
   ]
  },
  {
   "cell_type": "code",
   "execution_count": 4,
   "metadata": {},
   "outputs": [
    {
     "name": "stdout",
     "output_type": "stream",
     "text": [
      "b가 시작되는 첫번째 위치 :  10\n",
      "k가 시작되는 첫번째 위치 :  -1\n"
     ]
    }
   ],
   "source": [
    "# find : 문자를 찾아서 시작되는 위치 돌려줌 0부터 시작되고 없다면 -1 반환\n",
    "\n",
    "a = \"Python is best choice\"\n",
    "print('b가 시작되는 첫번째 위치 : ', a.find('b'))\n",
    "print('k가 시작되는 첫번째 위치 : ', a.find('k'))"
   ]
  },
  {
   "cell_type": "code",
   "execution_count": 6,
   "metadata": {},
   "outputs": [
    {
     "name": "stdout",
     "output_type": "stream",
     "text": [
      "b가 시작되는 첫번째 위치 :  -1\n"
     ]
    }
   ],
   "source": [
    "print('b가 시작되는 첫번째 위치 : ', a.find('b',11)) #11번째부터 find"
   ]
  },
  {
   "cell_type": "code",
   "execution_count": 7,
   "metadata": {},
   "outputs": [
    {
     "name": "stdout",
     "output_type": "stream",
     "text": [
      "b가 시작되는 첫번째 위치 :  10\n"
     ]
    }
   ],
   "source": [
    "# rfind() : 오른쪽부터 찾기 반환값은 왼쪽부터 출력\n",
    "print('b가 시작되는 첫번째 위치 : ', a.rfind('b'))"
   ]
  },
  {
   "cell_type": "code",
   "execution_count": 9,
   "metadata": {},
   "outputs": [
    {
     "name": "stdout",
     "output_type": "stream",
     "text": [
      "b가 시작되는 첫번째 위치 :  10\n"
     ]
    }
   ],
   "source": [
    "# index : find 함수와 동일한 기능. 단, 찾는 문자열이 없는 경우 오류시 에러로 반환\n",
    "\n",
    "a = \"Python is best choice\"\n",
    "print('b가 시작되는 첫번째 위치 : ', a.index('b'))\n",
    "# print('k가 시작되는 첫번째 위치 : ', a.index('k')) -에러"
   ]
  },
  {
   "cell_type": "code",
   "execution_count": 11,
   "metadata": {},
   "outputs": [
    {
     "name": "stdout",
     "output_type": "stream",
     "text": [
      "True\n"
     ]
    }
   ],
   "source": [
    "# startswith() : 괄호안의 문자열로 시작하면 True\n",
    "\n",
    "a = \"Python is easy programing\"\n",
    "print(a.startswith(\"P\"))"
   ]
  },
  {
   "cell_type": "code",
   "execution_count": 13,
   "metadata": {},
   "outputs": [
    {
     "name": "stdout",
     "output_type": "stream",
     "text": [
      "True\n"
     ]
    }
   ],
   "source": [
    "# endswith() : 괄호안의 문자열로 끝나면 True\n",
    "print(a.endswith(\"g\"))"
   ]
  },
  {
   "cell_type": "code",
   "execution_count": 14,
   "metadata": {},
   "outputs": [
    {
     "name": "stdout",
     "output_type": "stream",
     "text": [
      "a,b,c,d\n"
     ]
    }
   ],
   "source": [
    "# join() : 문자열 사이의 연결 문자 지정\n",
    "\n",
    "b = \",\"\n",
    "print(b.join(\"abcd\")) #abcd문자열 사이에 b(\",\")를 삽입"
   ]
  },
  {
   "cell_type": "code",
   "execution_count": 15,
   "metadata": {},
   "outputs": [
    {
     "name": "stdout",
     "output_type": "stream",
     "text": [
      "ABCD\n"
     ]
    }
   ],
   "source": [
    "# upper() : 대문자로 변경\n",
    "\n",
    "a = \"abcd\"\n",
    "print(a.upper())"
   ]
  },
  {
   "cell_type": "code",
   "execution_count": 16,
   "metadata": {},
   "outputs": [
    {
     "name": "stdout",
     "output_type": "stream",
     "text": [
      "abcde\n"
     ]
    }
   ],
   "source": [
    "# lower() : 소문자로 변경\n",
    "\n",
    "a = \"ABCDE\"\n",
    "print(a.lower())"
   ]
  },
  {
   "cell_type": "code",
   "execution_count": 17,
   "metadata": {},
   "outputs": [
    {
     "name": "stdout",
     "output_type": "stream",
     "text": [
      "pYTHON IS eASY\n"
     ]
    }
   ],
   "source": [
    "# swapcase() : 대소문자 상호변경\n",
    "a = \"Python is Easy\"\n",
    "print(a.swapcase())"
   ]
  },
  {
   "cell_type": "code",
   "execution_count": 18,
   "metadata": {},
   "outputs": [
    {
     "name": "stdout",
     "output_type": "stream",
     "text": [
      "Python Is Easy\n"
     ]
    }
   ],
   "source": [
    "# title() : 각 단어의 시작 부분을 대문자로 변경\n",
    "\n",
    "a = \"python is easy\"\n",
    "print(a.title())"
   ]
  },
  {
   "cell_type": "code",
   "execution_count": 19,
   "metadata": {},
   "outputs": [
    {
     "name": "stdout",
     "output_type": "stream",
     "text": [
      "    hi\n",
      "hi\n"
     ]
    }
   ],
   "source": [
    "# 공백제거 : strip()-양쪽공백제거, lstrip()-왼쪽공백제거, rstrip()-오른쪽 공백제거\n",
    "\n",
    "a = \"    hi\"\n",
    "print(a)\n",
    "print(a.lstrip()) #왼쪽 공백 제거"
   ]
  },
  {
   "cell_type": "code",
   "execution_count": 22,
   "metadata": {},
   "outputs": [
    {
     "name": "stdout",
     "output_type": "stream",
     "text": [
      "hi      \n",
      "hi\n"
     ]
    }
   ],
   "source": [
    "a = \"hi      \"\n",
    "print(a)\n",
    "print(a.rstrip()) #오른쪽 공백 제거"
   ]
  },
  {
   "cell_type": "code",
   "execution_count": 23,
   "metadata": {},
   "outputs": [
    {
     "name": "stdout",
     "output_type": "stream",
     "text": [
      "    hi   \n",
      "hi\n"
     ]
    }
   ],
   "source": [
    "a = \"    hi   \"\n",
    "print(a)\n",
    "print(a.strip()) #양쪽 공백 제거"
   ]
  },
  {
   "cell_type": "code",
   "execution_count": 24,
   "metadata": {},
   "outputs": [
    {
     "name": "stdout",
     "output_type": "stream",
     "text": [
      "Your leg is too short\n"
     ]
    }
   ],
   "source": [
    "# replace() : 문자열 대체하여 바꾸기\n",
    "a = \"Life is too short\"\n",
    "print(a.replace(\"Life\",\"Your leg\"))"
   ]
  },
  {
   "cell_type": "code",
   "execution_count": 25,
   "metadata": {},
   "outputs": [
    {
     "name": "stdout",
     "output_type": "stream",
     "text": [
      "['a', 'b', 'c', 'd']\n"
     ]
    }
   ],
   "source": [
    "# split() : 문자열 나누기, []-list 형태로 반환됨\n",
    "\n",
    "a = \"a:b:c:d\"\n",
    "print(a.split(\":\")) "
   ]
  },
  {
   "cell_type": "code",
   "execution_count": 27,
   "metadata": {},
   "outputs": [
    {
     "name": "stdout",
     "output_type": "stream",
     "text": [
      "['a', 'b', 'c', 'd']\n"
     ]
    }
   ],
   "source": [
    "a = \"a\\nb\\nc\\nd\"\n",
    "print(a.split(\"\\n\"))"
   ]
  },
  {
   "cell_type": "code",
   "execution_count": 28,
   "metadata": {},
   "outputs": [
    {
     "name": "stdout",
     "output_type": "stream",
     "text": [
      "['python', 'is', 'easy']\n"
     ]
    }
   ],
   "source": [
    "a = \"python is easy\"\n",
    "print(a.split()) #조건을 안줬을 경우 공백기준"
   ]
  },
  {
   "cell_type": "code",
   "execution_count": 35,
   "metadata": {},
   "outputs": [
    {
     "name": "stdout",
     "output_type": "stream",
     "text": [
      "True\n",
      "True\n",
      "True\n",
      "True\n",
      "True\n"
     ]
    }
   ],
   "source": [
    "# 문자열 구성 파악 함수 : isdigit(), isalpha(), isalnum(), islower(), isupper()\n",
    "\n",
    "print(\"1234\".isdigit()) # 숫자구성\n",
    "print(\"abcd\".isalpha()) #알파벳구성\n",
    "print(\"abc123\".isalnum())# 영어.한글.숫자구성\n",
    "print(\"abcd\".islower()) #소문자 구성\n",
    "print(\"ABCD\".isupper()) #대문자구성"
   ]
  },
  {
   "cell_type": "code",
   "execution_count": 36,
   "metadata": {},
   "outputs": [
    {
     "name": "stdout",
     "output_type": "stream",
     "text": [
      "kENNry\n"
     ]
    }
   ],
   "source": [
    "name = \"KennRY\"\n",
    "\n",
    "# 대문자는 소문자로, 소문자는 대문자로 출력하기\n",
    "print(name.swapcase())"
   ]
  },
  {
   "cell_type": "code",
   "execution_count": 1,
   "metadata": {},
   "outputs": [
    {
     "name": "stdout",
     "output_type": "stream",
     "text": [
      "년/월/일 형태로 날짜를 입력2021/02/16\n",
      "입력한 날짜의 10년 후 2031년02월16일\n"
     ]
    }
   ],
   "source": [
    "# 년/월/일 형태로 입력받은 후 10년 후의 날짜 출력하기\n",
    "# 입력값이 2021/02/16 일때 => 2031년02월16일\n",
    "\n",
    "date1 = input(\"년/월/일 형태로 날짜를 입력\")\n",
    "\n",
    "pos = date1.find(\"/\")\n",
    "year = int(date1[:pos])+10\n",
    "\n",
    "print(\"입력한 날짜의 10년 후 %s\" % (str(year)+\"년\"+ date1[5:7]+\"월\"+date1[8:]+\"일\"))"
   ]
  },
  {
   "cell_type": "code",
   "execution_count": 2,
   "metadata": {},
   "outputs": [
    {
     "name": "stdout",
     "output_type": "stream",
     "text": [
      "nav51!\n"
     ]
    }
   ],
   "source": [
    "# 문자열은 불변(변경할수 없음)\n",
    "# 사이트 별로 비밀번호 만들어 주기\n",
    "# 예) http://naver.com\n",
    "# 규칙 1: http:// 부분은 제외한다. => naver.com\n",
    "# 규칙 2: 처음 만나는 점(.)이후 부분은 제외 => naver\n",
    "# 규칙 3: 남은 글자 중 처음 세자리 + 글자 갯수 + 글자 내 'e' 갯수 + !로 구성\n",
    "# 결과 => nav51!\n",
    "\n",
    "url = \"http://naver.com\"\n",
    "url = url.replace(\"http://\",\"\") #naver.com\n",
    "url = url[:url.find(\".\")] # naver\n",
    "e_cnt = url.count('e')\n",
    "\n",
    "password = url[:3]+str(len(url))+str(e_cnt)+\"!\"\n",
    "print(password)"
   ]
  },
  {
   "cell_type": "code",
   "execution_count": null,
   "metadata": {},
   "outputs": [],
   "source": []
  },
  {
   "cell_type": "code",
   "execution_count": null,
   "metadata": {},
   "outputs": [],
   "source": []
  },
  {
   "cell_type": "code",
   "execution_count": null,
   "metadata": {},
   "outputs": [],
   "source": []
  },
  {
   "cell_type": "code",
   "execution_count": null,
   "metadata": {},
   "outputs": [],
   "source": []
  },
  {
   "cell_type": "code",
   "execution_count": null,
   "metadata": {},
   "outputs": [],
   "source": []
  }
 ],
 "metadata": {
  "kernelspec": {
   "display_name": "Python 3",
   "language": "python",
   "name": "python3"
  },
  "language_info": {
   "codemirror_mode": {
    "name": "ipython",
    "version": 3
   },
   "file_extension": ".py",
   "mimetype": "text/x-python",
   "name": "python",
   "nbconvert_exporter": "python",
   "pygments_lexer": "ipython3",
   "version": "3.8.5"
  }
 },
 "nbformat": 4,
 "nbformat_minor": 4
}
