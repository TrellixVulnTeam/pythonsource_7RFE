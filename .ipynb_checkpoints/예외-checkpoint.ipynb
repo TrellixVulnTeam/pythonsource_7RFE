{
 "cells": [
  {
   "cell_type": "markdown",
   "metadata": {},
   "source": [
    "### 에러\n",
    "\n",
    "- 컴파일 에러\n",
    "- 런타임 에러"
   ]
  },
  {
   "cell_type": "code",
   "execution_count": 1,
   "metadata": {},
   "outputs": [
    {
     "ename": "SyntaxError",
     "evalue": "EOL while scanning string literal (<ipython-input-1-a6d4d6c1b072>, line 1)",
     "output_type": "error",
     "traceback": [
      "\u001b[1;36m  File \u001b[1;32m\"<ipython-input-1-a6d4d6c1b072>\"\u001b[1;36m, line \u001b[1;32m1\u001b[0m\n\u001b[1;33m    print('Test)\u001b[0m\n\u001b[1;37m                ^\u001b[0m\n\u001b[1;31mSyntaxError\u001b[0m\u001b[1;31m:\u001b[0m EOL while scanning string literal\n"
     ]
    }
   ],
   "source": [
    "print('Test) # SyntaxError : 문법적인 에러"
   ]
  },
  {
   "cell_type": "code",
   "execution_count": 2,
   "metadata": {},
   "outputs": [
    {
     "ename": "NameError",
     "evalue": "name 'c' is not defined",
     "output_type": "error",
     "traceback": [
      "\u001b[1;31m---------------------------------------------------------------------------\u001b[0m",
      "\u001b[1;31mNameError\u001b[0m                                 Traceback (most recent call last)",
      "\u001b[1;32m<ipython-input-2-0b58ed94010d>\u001b[0m in \u001b[0;36m<module>\u001b[1;34m\u001b[0m\n\u001b[0;32m      1\u001b[0m \u001b[0ma\u001b[0m\u001b[1;33m,\u001b[0m \u001b[0mb\u001b[0m \u001b[1;33m=\u001b[0m \u001b[1;36m10\u001b[0m\u001b[1;33m,\u001b[0m\u001b[1;36m15\u001b[0m\u001b[1;33m\u001b[0m\u001b[1;33m\u001b[0m\u001b[0m\n\u001b[1;32m----> 2\u001b[1;33m \u001b[0mprint\u001b[0m\u001b[1;33m(\u001b[0m\u001b[0mc\u001b[0m\u001b[1;33m)\u001b[0m\u001b[1;33m\u001b[0m\u001b[1;33m\u001b[0m\u001b[0m\n\u001b[0m",
      "\u001b[1;31mNameError\u001b[0m: name 'c' is not defined"
     ]
    }
   ],
   "source": [
    "a, b = 10,15 # NameError : 선언하지 않은 변수를 호출할때\n",
    "print(c)"
   ]
  },
  {
   "cell_type": "code",
   "execution_count": 3,
   "metadata": {},
   "outputs": [
    {
     "ename": "ZeroDivisionError",
     "evalue": "division by zero",
     "output_type": "error",
     "traceback": [
      "\u001b[1;31m---------------------------------------------------------------------------\u001b[0m",
      "\u001b[1;31mZeroDivisionError\u001b[0m                         Traceback (most recent call last)",
      "\u001b[1;32m<ipython-input-3-fe01563e1bc6>\u001b[0m in \u001b[0;36m<module>\u001b[1;34m\u001b[0m\n\u001b[1;32m----> 1\u001b[1;33m \u001b[0mprint\u001b[0m\u001b[1;33m(\u001b[0m\u001b[1;36m10\u001b[0m\u001b[1;33m/\u001b[0m\u001b[1;36m0\u001b[0m\u001b[1;33m)\u001b[0m\u001b[1;33m\u001b[0m\u001b[1;33m\u001b[0m\u001b[0m\n\u001b[0m",
      "\u001b[1;31mZeroDivisionError\u001b[0m: division by zero"
     ]
    }
   ],
   "source": [
    "print(10/0) # ZeroDivisionError : 0으로 나눔"
   ]
  },
  {
   "cell_type": "code",
   "execution_count": 4,
   "metadata": {},
   "outputs": [
    {
     "ename": "IndexError",
     "evalue": "list index out of range",
     "output_type": "error",
     "traceback": [
      "\u001b[1;31m---------------------------------------------------------------------------\u001b[0m",
      "\u001b[1;31mIndexError\u001b[0m                                Traceback (most recent call last)",
      "\u001b[1;32m<ipython-input-4-3fc42bf33b73>\u001b[0m in \u001b[0;36m<module>\u001b[1;34m\u001b[0m\n\u001b[0;32m      1\u001b[0m \u001b[0mx\u001b[0m \u001b[1;33m=\u001b[0m \u001b[1;33m[\u001b[0m\u001b[1;36m10\u001b[0m\u001b[1;33m,\u001b[0m\u001b[1;36m20\u001b[0m\u001b[1;33m,\u001b[0m\u001b[1;36m30\u001b[0m\u001b[1;33m]\u001b[0m\u001b[1;33m\u001b[0m\u001b[1;33m\u001b[0m\u001b[0m\n\u001b[1;32m----> 2\u001b[1;33m \u001b[0mprint\u001b[0m\u001b[1;33m(\u001b[0m\u001b[0mx\u001b[0m\u001b[1;33m[\u001b[0m\u001b[1;36m3\u001b[0m\u001b[1;33m]\u001b[0m\u001b[1;33m)\u001b[0m\u001b[1;33m\u001b[0m\u001b[1;33m\u001b[0m\u001b[0m\n\u001b[0m",
      "\u001b[1;31mIndexError\u001b[0m: list index out of range"
     ]
    }
   ],
   "source": [
    "x = [10,20,30] # IndexError : 잘못된 인덱스 지정했을 경우\n",
    "print(x[3])"
   ]
  },
  {
   "cell_type": "code",
   "execution_count": 6,
   "metadata": {},
   "outputs": [
    {
     "ename": "KeyError",
     "evalue": "'hobby'",
     "output_type": "error",
     "traceback": [
      "\u001b[1;31m---------------------------------------------------------------------------\u001b[0m",
      "\u001b[1;31mKeyError\u001b[0m                                  Traceback (most recent call last)",
      "\u001b[1;32m<ipython-input-6-5938e5b6a1cd>\u001b[0m in \u001b[0;36m<module>\u001b[1;34m\u001b[0m\n\u001b[0;32m      1\u001b[0m \u001b[0mdict1\u001b[0m \u001b[1;33m=\u001b[0m \u001b[1;33m{\u001b[0m\u001b[1;34m'name'\u001b[0m\u001b[1;33m:\u001b[0m\u001b[1;34m'kim'\u001b[0m\u001b[1;33m,\u001b[0m\u001b[1;34m'age'\u001b[0m\u001b[1;33m:\u001b[0m\u001b[1;36m13\u001b[0m\u001b[1;33m,\u001b[0m \u001b[1;34m\"city\"\u001b[0m\u001b[1;33m:\u001b[0m\u001b[1;34m\"seoul\"\u001b[0m\u001b[1;33m}\u001b[0m \u001b[1;31m#NameError\u001b[0m\u001b[1;33m\u001b[0m\u001b[1;33m\u001b[0m\u001b[0m\n\u001b[1;32m----> 2\u001b[1;33m \u001b[0mprint\u001b[0m\u001b[1;33m(\u001b[0m\u001b[0mdict1\u001b[0m\u001b[1;33m[\u001b[0m\u001b[1;34m'hobby'\u001b[0m\u001b[1;33m]\u001b[0m\u001b[1;33m)\u001b[0m\u001b[1;33m\u001b[0m\u001b[1;33m\u001b[0m\u001b[0m\n\u001b[0m",
      "\u001b[1;31mKeyError\u001b[0m: 'hobby'"
     ]
    }
   ],
   "source": [
    "dict1 = {'name':'kim','age':13, \"city\":\"seoul\"} #KeyError : 없는항목 찾을경우\n",
    "print(dict1['hobby']) #dict1.get(\"hobby\") : KeyError 예방"
   ]
  },
  {
   "cell_type": "code",
   "execution_count": 7,
   "metadata": {},
   "outputs": [
    {
     "name": "stdout",
     "output_type": "stream",
     "text": [
      "Not Found it!\n"
     ]
    }
   ],
   "source": [
    "# try ~ except : try(오류 발생 코드) except(예외가 발생할 때 실행할 코드)\n",
    "\n",
    "name = [\"Kim\",\"Park\",\"Lee\"]\n",
    "\n",
    "try:\n",
    "    x = name.index(\"Let\")\n",
    "    print(\"{} Found it! in name {}\".format(z, x+1))\n",
    "except:\n",
    "    print(\"Not Found it!\")"
   ]
  },
  {
   "cell_type": "code",
   "execution_count": 13,
   "metadata": {},
   "outputs": [
    {
     "name": "stdout",
     "output_type": "stream",
     "text": [
      "정수입력 >> 3cm\n",
      "입력값을 확인해 주세요\n"
     ]
    }
   ],
   "source": [
    "try:\n",
    "    number_input = int(input(\"정수입력 >> \")) # 3cm 단위까지 입력하면 : ValueError\n",
    "\n",
    "    print(\"원의 반지름 : \",number_input)\n",
    "    print(\"원의 둘레 : \", 2*3.14 * number_input)\n",
    "    print(\"원의 넓이 : \", 3.14 * number_input * number_input)\n",
    "except:\n",
    "    print(\"입력값을 확인해 주세요\")"
   ]
  },
  {
   "cell_type": "code",
   "execution_count": 14,
   "metadata": {},
   "outputs": [
    {
     "name": "stdout",
     "output_type": "stream",
     "text": [
      "Not Found it!\n"
     ]
    }
   ],
   "source": [
    "# try ~ except : try(오류 발생 코드) except 오류코드명 :\n",
    "\n",
    "name = [\"Kim\",\"Park\",\"Lee\"]\n",
    "\n",
    "try:\n",
    "    x = name.index(\"Let\")\n",
    "    print(\"{} Found it! in name {}\".format(z, x+1))\n",
    "except ValueError: # ValueError 일때만 메세지 출력\n",
    "    print(\"Not Found it!\")"
   ]
  },
  {
   "cell_type": "code",
   "execution_count": 15,
   "metadata": {},
   "outputs": [
    {
     "name": "stdout",
     "output_type": "stream",
     "text": [
      "찾으려는 key가 없습니다.\n"
     ]
    }
   ],
   "source": [
    "dict1 = {'name':'kim','age':13, \"city\":\"seoul\"} #KeyError : 없는항목 찾을경우\n",
    "\n",
    "try:\n",
    "    print(dict1['hobby'])\n",
    "except KeyError:\n",
    "    print(\"찾으려는 key가 없습니다.\")"
   ]
  },
  {
   "cell_type": "code",
   "execution_count": 22,
   "metadata": {},
   "outputs": [
    {
     "name": "stdout",
     "output_type": "stream",
     "text": [
      "찾으려는 key가 없습니다.\n"
     ]
    }
   ],
   "source": [
    "# 어떤 에러가 나는지 모를때 Exception 으로 처리 가능\n",
    "\n",
    "ict1 = {'name':'kim','age':13, \"city\":\"seoul\"} \n",
    "\n",
    "try:\n",
    "    print(dict1['hobby'])\n",
    "except Exception:\n",
    "    print(\"찾으려는 key가 없습니다.\")"
   ]
  },
  {
   "cell_type": "code",
   "execution_count": 18,
   "metadata": {},
   "outputs": [
    {
     "name": "stdout",
     "output_type": "stream",
     "text": [
      "Kim Found it! in name 1\n",
      "OK\n"
     ]
    }
   ],
   "source": [
    "# try ~ except ~ else(에러가 발생하지 않는 경우)\n",
    "\n",
    "name = [\"Kim\",\"Park\",\"Lee\"]\n",
    "\n",
    "try:\n",
    "   # x = name.index(\"Let\")\n",
    "    z = \"Kim\"\n",
    "    x = name.index(z)\n",
    "    print(\"{} Found it! in name {}\".format(z, x+1))\n",
    "except ValueError: # ValueError 일때만 메세지 출력\n",
    "    print(\"Not Found it!\")\n",
    "else:\n",
    "    print(\"OK\")"
   ]
  },
  {
   "cell_type": "code",
   "execution_count": 20,
   "metadata": {},
   "outputs": [
    {
     "name": "stdout",
     "output_type": "stream",
     "text": [
      "정수입력 >> 3c\n",
      "입력값을 확인해 주세요\n"
     ]
    }
   ],
   "source": [
    "try:\n",
    "    number_input = int(input(\"정수입력 >> \")) # 3cm 단위까지 입력하면 : ValueError\n",
    "except:\n",
    "    print(\"입력값을 확인해 주세요\")\n",
    "else:\n",
    "    print(\"원의 반지름 : \",number_input)\n",
    "    print(\"원의 둘레 : \", 2*3.14 * number_input)\n",
    "    print(\"원의 넓이 : \", 3.14 * number_input * number_input)"
   ]
  },
  {
   "cell_type": "code",
   "execution_count": 24,
   "metadata": {},
   "outputs": [
    {
     "name": "stdout",
     "output_type": "stream",
     "text": [
      "Not Found it!\n",
      "finally\n"
     ]
    }
   ],
   "source": [
    "# try~except~else~fanally (오류여부와 상관없이 무조건 실행)\n",
    "\n",
    "name = [\"Kim\",\"Park\",\"Lee\"]\n",
    "\n",
    "try:\n",
    "   # x = name.index(\"Let\")\n",
    "    z = \"Choi\"\n",
    "    x = name.index(z)\n",
    "    print(\"{} Found it! in name {}\".format(z, x+1))\n",
    "except ValueError: # ValueError 일때만 메세지 출력\n",
    "    print(\"Not Found it!\")\n",
    "else:\n",
    "    print(\"OK\")\n",
    "finally:\n",
    "    print(\"finally\")"
   ]
  },
  {
   "cell_type": "code",
   "execution_count": null,
   "metadata": {},
   "outputs": [],
   "source": []
  }
 ],
 "metadata": {
  "kernelspec": {
   "display_name": "Python 3",
   "language": "python",
   "name": "python3"
  },
  "language_info": {
   "codemirror_mode": {
    "name": "ipython",
    "version": 3
   },
   "file_extension": ".py",
   "mimetype": "text/x-python",
   "name": "python",
   "nbconvert_exporter": "python",
   "pygments_lexer": "ipython3",
   "version": "3.8.5"
  }
 },
 "nbformat": 4,
 "nbformat_minor": 4
}
