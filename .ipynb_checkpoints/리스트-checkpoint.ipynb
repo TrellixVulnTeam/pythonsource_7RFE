{
 "cells": [
  {
   "cell_type": "code",
   "execution_count": 2,
   "metadata": {},
   "outputs": [],
   "source": [
    "# 리스트 생성  - 다양한 타입을 담을 수 있음\n",
    "\n",
    "list1 = []\n",
    "list2 = ['a','b','c']\n",
    "list3 = ['a','b','c',1,2]\n",
    "list4 = [1,2,3,4,5.5,6.5]\n",
    "list5 = [1,2,['Life','is','short']] #자바의 2차원 배열과 같은개념"
   ]
  },
  {
   "cell_type": "code",
   "execution_count": 3,
   "metadata": {},
   "outputs": [
    {
     "name": "stdout",
     "output_type": "stream",
     "text": [
      "[]\n",
      "['a', 'b', 'c']\n",
      "['a', 'b', 'c', 1, 2]\n",
      "[1, 2, 3, 4, 5.5, 6.5]\n",
      "[1, 2, ['Life', 'is', 'short']]\n"
     ]
    }
   ],
   "source": [
    "# 리스트 사용\n",
    "\n",
    "print(list1)\n",
    "print(list2)\n",
    "print(list3)\n",
    "print(list4)\n",
    "print(list5)"
   ]
  },
  {
   "cell_type": "code",
   "execution_count": 8,
   "metadata": {},
   "outputs": [
    {
     "name": "stdout",
     "output_type": "stream",
     "text": [
      "list2[2] =  c\n",
      "list3[4] =  2\n",
      "list5[2] =  ['Life', 'is', 'short']\n",
      "list4[-1] =  6.5\n",
      "list5[2][2] =  short\n"
     ]
    }
   ],
   "source": [
    "# 리스트 인덱싱\n",
    "\n",
    "print(\"list2[2] = \", list2[2])\n",
    "print(\"list3[4] = \", list3[4])\n",
    "print(\"list5[2] = \", list5[2])\n",
    "print(\"list4[-1] = \", list4[-1]) #-1: 뒤에서부터 인덱싱"
   ]
  },
  {
   "cell_type": "code",
   "execution_count": 9,
   "metadata": {},
   "outputs": [
    {
     "name": "stdout",
     "output_type": "stream",
     "text": [
      "list5[2][0] =  Life\n"
     ]
    }
   ],
   "source": [
    "print(\"list5[2][0] = \", list5[2][0])"
   ]
  },
  {
   "cell_type": "code",
   "execution_count": 11,
   "metadata": {},
   "outputs": [
    {
     "name": "stdout",
     "output_type": "stream",
     "text": [
      "list5[-1] =  ['Life', 'is', 'short']\n",
      "list5[-1][2] =  short\n"
     ]
    }
   ],
   "source": [
    "print(\"list5[-1] = \", list5[-1])\n",
    "print(\"list5[-1][2] = \", list5[-1][2])"
   ]
  },
  {
   "cell_type": "code",
   "execution_count": 17,
   "metadata": {},
   "outputs": [
    {
     "name": "stdout",
     "output_type": "stream",
     "text": [
      "list6 =  is\n",
      "list6 =  is\n",
      "list6 =  is\n"
     ]
    }
   ],
   "source": [
    "list6 = [1,2,['a','b',['life','is']]]\n",
    "\n",
    "# is 출력하기\n",
    "print(\"list6 = \", list6[2][2][1])\n",
    "print(\"list6 = \", list6[-1][-1][-1])\n",
    "print(\"list6 = \", list6[2][-1][-1])"
   ]
  },
  {
   "cell_type": "code",
   "execution_count": 19,
   "metadata": {},
   "outputs": [
    {
     "name": "stdout",
     "output_type": "stream",
     "text": [
      "[1, 2, 3, 4, 5, 6]\n",
      "[1, 2, 3, 'a', 'b', 'c']\n",
      "6\n"
     ]
    }
   ],
   "source": [
    "# 연산자 : +(연결), *(반복)\n",
    "\n",
    "a=[1,2,3]\n",
    "b=[4,5,6]\n",
    "c=['a','b','c']\n",
    "\n",
    "print(a+b)\n",
    "print(a+c)\n",
    "print(a[0]+b[1]) # 산술연산"
   ]
  },
  {
   "cell_type": "code",
   "execution_count": 21,
   "metadata": {},
   "outputs": [
    {
     "name": "stdout",
     "output_type": "stream",
     "text": [
      "[1, 2, 3, 1, 2, 3, 1, 2, 3]\n",
      "3\n"
     ]
    }
   ],
   "source": [
    "print(a*3)\n",
    "print(a[0]*3)# 산술연산"
   ]
  },
  {
   "cell_type": "code",
   "execution_count": 24,
   "metadata": {},
   "outputs": [
    {
     "name": "stdout",
     "output_type": "stream",
     "text": [
      "[1, 7, 3]\n",
      "[1, 7, 3]\n",
      "[1, 7, 'life']\n"
     ]
    }
   ],
   "source": [
    "print(a)\n",
    "a[1] = 7\n",
    "print(a)\n",
    "a[2] = 'life'\n",
    "print(a)"
   ]
  },
  {
   "cell_type": "code",
   "execution_count": 26,
   "metadata": {},
   "outputs": [],
   "source": [
    "str1 = \"abcd\"\n",
    "#str1[0] = 'e' #문자열은 인덱싱 변경이 불가"
   ]
  },
  {
   "cell_type": "code",
   "execution_count": 28,
   "metadata": {},
   "outputs": [
    {
     "name": "stdout",
     "output_type": "stream",
     "text": [
      "[4, 5, 6]\n",
      "[4, 10, 11, 6]\n"
     ]
    }
   ],
   "source": [
    "print(b)\n",
    "b[1:2] = [10,11] #1번에서 2번 범위형태로 리스트 추가\n",
    "print(b)"
   ]
  },
  {
   "cell_type": "code",
   "execution_count": 29,
   "metadata": {},
   "outputs": [
    {
     "name": "stdout",
     "output_type": "stream",
     "text": [
      "[4, 10, 11, 6]\n",
      "[4, [15, 16, 17], 11, 6]\n"
     ]
    }
   ],
   "source": [
    "print(b)\n",
    "b[1] = [15,16,17] #1번 자리에 범위가 아닌 인덱스 형태로 리스트 추가하\n",
    "print(b)"
   ]
  },
  {
   "cell_type": "code",
   "execution_count": 31,
   "metadata": {},
   "outputs": [
    {
     "name": "stdout",
     "output_type": "stream",
     "text": [
      "[1, 7, 'life']\n",
      "[1, 'life']\n"
     ]
    }
   ],
   "source": [
    "print(a)\n",
    "del a[1] #1번 자리 삭제\n",
    "print(a)"
   ]
  },
  {
   "cell_type": "code",
   "execution_count": 32,
   "metadata": {},
   "outputs": [
    {
     "name": "stdout",
     "output_type": "stream",
     "text": [
      "[4, [15, 16, 17], 11, 6]\n",
      "[4, 6]\n"
     ]
    }
   ],
   "source": [
    "print(b)\n",
    "b[1:3] = [] # 1번~2번 삭제 \n",
    "print(b)"
   ]
  },
  {
   "cell_type": "code",
   "execution_count": 2,
   "metadata": {},
   "outputs": [
    {
     "name": "stdout",
     "output_type": "stream",
     "text": [
      "273\n",
      "103\n",
      "5\n",
      "32\n",
      "65\n",
      "9\n",
      "72\n",
      "800\n",
      "99\n"
     ]
    }
   ],
   "source": [
    "numbers = [273,103,5,32,65,9,72,800,99]\n",
    "for num in numbers:\n",
    "    print(num)"
   ]
  },
  {
   "cell_type": "code",
   "execution_count": 3,
   "metadata": {},
   "outputs": [
    {
     "name": "stdout",
     "output_type": "stream",
     "text": [
      "273 는 홀수\n",
      "103 는 홀수\n",
      "5 는 홀수\n",
      "32 는 짝수\n",
      "65 는 홀수\n",
      "9 는 홀수\n",
      "72 는 짝수\n",
      "800 는 짝수\n",
      "99 는 홀수\n"
     ]
    }
   ],
   "source": [
    "# numbers 안의 숫자가 홀수인지 짝수인지 판별해서 출력하기\n",
    "\n",
    "for num in numbers:\n",
    "    if num % 2 == 0:\n",
    "        print(\"{} 는 짝수\".format(num))\n",
    "    else:\n",
    "        print(\"{} 는 홀수\".format(num))\n"
   ]
  },
  {
   "cell_type": "code",
   "execution_count": 6,
   "metadata": {},
   "outputs": [
    {
     "name": "stdout",
     "output_type": "stream",
     "text": [
      "273는 3자릿수\n",
      "103는 3자릿수\n",
      "5는 1자릿수\n",
      "32는 2자릿수\n",
      "65는 2자릿수\n",
      "9는 1자릿수\n",
      "72는 2자릿수\n",
      "800는 3자릿수\n",
      "99는 2자릿수\n"
     ]
    }
   ],
   "source": [
    "# numbers 안의 각 숫자들의 자릿수 출력하기\n",
    "\n",
    "for num in numbers:\n",
    "    print(\"{}는 {}자릿수\".format(num, len(str(num))))"
   ]
  },
  {
   "cell_type": "code",
   "execution_count": 8,
   "metadata": {},
   "outputs": [
    {
     "name": "stdout",
     "output_type": "stream",
     "text": [
      "1 2 3 4 5 6 7 8 9 "
     ]
    }
   ],
   "source": [
    "list_of_list = [[1,2,3],[4,5,6,7],[8,9]]\n",
    "\n",
    "# 1 2 3 4 5 6 7 8 9 형태로 출력\n",
    "for list in list_of_list:\n",
    "    for num in list:\n",
    "        print(num,end=\" \")"
   ]
  },
  {
   "cell_type": "markdown",
   "metadata": {},
   "source": [
    "### 리스트 관련 함수"
   ]
  },
  {
   "cell_type": "code",
   "execution_count": 9,
   "metadata": {},
   "outputs": [
    {
     "name": "stdout",
     "output_type": "stream",
     "text": [
      "[1, 2, 3, 4]\n"
     ]
    }
   ],
   "source": [
    "# append() : 리스트에 요소추가 뒤로 덧붙이기\n",
    "\n",
    "list1 = [1,2,3]\n",
    "list1.append(4)\n",
    "print(list1)"
   ]
  },
  {
   "cell_type": "code",
   "execution_count": 13,
   "metadata": {},
   "outputs": [
    {
     "name": "stdout",
     "output_type": "stream",
     "text": [
      "[1, 2, 3, 4, [5, 6], [5, 6], [5, 6], [5, 6]]\n"
     ]
    }
   ],
   "source": [
    "list1.append([5,6])\n",
    "print(list1)"
   ]
  },
  {
   "cell_type": "code",
   "execution_count": 15,
   "metadata": {},
   "outputs": [],
   "source": [
    "#list1.append(5,6,7) #데이터 한개만 허용하므로 리스트형태로 추가해야함"
   ]
  },
  {
   "cell_type": "code",
   "execution_count": 18,
   "metadata": {},
   "outputs": [
    {
     "name": "stdout",
     "output_type": "stream",
     "text": [
      "[2, 4, 6, 8, 10, 12, 14, 16, 18, 20, 22, 24, 26, 28, 30, 32, 34, 36, 38, 40, 42, 44, 46, 48, 50, 52, 54, 56, 58, 60, 62, 64, 66, 68, 70, 72, 74, 76, 78, 80, 82, 84, 86, 88, 90, 92, 94, 96, 98, 100]\n"
     ]
    }
   ],
   "source": [
    "even = []\n",
    "\n",
    "# 1~100까지 짝수만 even에 추가한후 출력하기\n",
    "for i in range(2,101):\n",
    "    if i % 2 == 0:\n",
    "        even.append(i)\n",
    "print(even)"
   ]
  },
  {
   "cell_type": "code",
   "execution_count": 19,
   "metadata": {},
   "outputs": [
    {
     "name": "stdout",
     "output_type": "stream",
     "text": [
      "[25, 75, 15, 9, 6, 3, 36]\n",
      "[3, 6, 9, 15, 25, 36, 75]\n"
     ]
    }
   ],
   "source": [
    "# sort() - 원본 리스트를 정렬\n",
    "\n",
    "list1 = [25,75,15,9,6,3,36]\n",
    "print(list1)\n",
    "list1.sort()\n",
    "print(list1)"
   ]
  },
  {
   "cell_type": "code",
   "execution_count": 20,
   "metadata": {},
   "outputs": [
    {
     "name": "stdout",
     "output_type": "stream",
     "text": [
      "['k', 'z', 'b', 'a', 'q', 'r']\n",
      "['a', 'b', 'k', 'q', 'r', 'z']\n"
     ]
    }
   ],
   "source": [
    "list2 = ['k','z','b','a','q','r']\n",
    "print(list2)\n",
    "list2.sort()\n",
    "print(list2)"
   ]
  },
  {
   "cell_type": "code",
   "execution_count": 21,
   "metadata": {},
   "outputs": [
    {
     "name": "stdout",
     "output_type": "stream",
     "text": [
      "['k', 'A', 'b', 'C', 'q', 'r']\n",
      "['A', 'C', 'b', 'k', 'q', 'r']\n"
     ]
    }
   ],
   "source": [
    "list3 = ['k','A','b','C','q','r']\n",
    "print(list3)\n",
    "list3.sort()\n",
    "print(list3)"
   ]
  },
  {
   "cell_type": "code",
   "execution_count": 22,
   "metadata": {},
   "outputs": [
    {
     "name": "stdout",
     "output_type": "stream",
     "text": [
      "['ㄷ', 'ㄱ', 'ㅎ', 'ㅋ', 'ㄴ']\n",
      "['ㄱ', 'ㄴ', 'ㄷ', 'ㅋ', 'ㅎ']\n"
     ]
    }
   ],
   "source": [
    "list4 = ['ㄷ','ㄱ','ㅎ','ㅋ','ㄴ']\n",
    "print(list4)\n",
    "list4.sort()\n",
    "print(list4)"
   ]
  },
  {
   "cell_type": "code",
   "execution_count": 23,
   "metadata": {},
   "outputs": [
    {
     "name": "stdout",
     "output_type": "stream",
     "text": [
      "['abc', 'tail', 'bcd', 'animal', 'korea']\n",
      "['abc', 'animal', 'bcd', 'korea', 'tail']\n"
     ]
    }
   ],
   "source": [
    "list5 = [\"abc\",\"tail\",\"bcd\",\"animal\",\"korea\"]\n",
    "print(list5)\n",
    "list5.sort()\n",
    "print(list5)  #문자열일때 알파벳순으로 정렬"
   ]
  },
  {
   "cell_type": "code",
   "execution_count": 24,
   "metadata": {},
   "outputs": [
    {
     "name": "stdout",
     "output_type": "stream",
     "text": [
      "['k', 'A', 'b', 'C', 'q', 'r']\n",
      "['r', 'q', 'k', 'b', 'C', 'A']\n"
     ]
    }
   ],
   "source": [
    "list3 = ['k','A','b','C','q','r']\n",
    "print(list3)\n",
    "list3.sort(reverse=True)\n",
    "print(list3)"
   ]
  },
  {
   "cell_type": "code",
   "execution_count": 27,
   "metadata": {},
   "outputs": [
    {
     "name": "stdout",
     "output_type": "stream",
     "text": [
      "[25, 75, 15, 9, 6, 3, 36]\n",
      "[75, 36, 25, 15, 9, 6, 3]\n"
     ]
    }
   ],
   "source": [
    "# reverse() : 리스트 뒤집기\n",
    "\n",
    "list1 = [25,75,15,9,6,3,36]\n",
    "print(list1)\n",
    "list1.sort() #오름차순정렬\n",
    "list1.reverse() #역순 정렬\n",
    "print(list1)"
   ]
  },
  {
   "cell_type": "code",
   "execution_count": 28,
   "metadata": {},
   "outputs": [
    {
     "data": {
      "text/plain": [
       "6"
      ]
     },
     "execution_count": 28,
     "metadata": {},
     "output_type": "execute_result"
    }
   ],
   "source": [
    "# index() : 위치 반환\n",
    "\n",
    "list1.index(3) #3의 위치 반환"
   ]
  },
  {
   "cell_type": "code",
   "execution_count": null,
   "metadata": {},
   "outputs": [],
   "source": [
    "list1.index(77) # 없는 위치 요청시 에러"
   ]
  },
  {
   "cell_type": "code",
   "execution_count": 29,
   "metadata": {},
   "outputs": [
    {
     "name": "stdout",
     "output_type": "stream",
     "text": [
      "[12, 56, 13, 14, 15, 14]\n"
     ]
    }
   ],
   "source": [
    "# insert() : 특정 위치에 요소 삽입\n",
    "\n",
    "list2 = [12,13,14,15,14]\n",
    "list2.insert(1,56) #1번 자리에 56 삽입\n",
    "print(list2)"
   ]
  },
  {
   "cell_type": "code",
   "execution_count": 30,
   "metadata": {},
   "outputs": [
    {
     "name": "stdout",
     "output_type": "stream",
     "text": [
      "[12, 14, 15, 14]\n",
      "[12, 15, 14]\n"
     ]
    }
   ],
   "source": [
    "# remove() : 리스트 요소 제거\n",
    "\n",
    "list5 = [12,13,14,15,14]\n",
    "list5.remove(13)\n",
    "print(list5)\n",
    "list5.remove(14)\n",
    "print(list5)"
   ]
  },
  {
   "cell_type": "code",
   "execution_count": 33,
   "metadata": {},
   "outputs": [
    {
     "name": "stdout",
     "output_type": "stream",
     "text": [
      "[12, 13, 14, 15, 16]\n",
      "[12, 13, 14, 15]\n"
     ]
    }
   ],
   "source": [
    "# pop() : 리스트 요소 중 맨 마지막 요소 꺼내기\n",
    "\n",
    "list5 = [12,13,14,15,16]\n",
    "print(list5)\n",
    "list5.pop()\n",
    "print(list5)"
   ]
  },
  {
   "cell_type": "code",
   "execution_count": 34,
   "metadata": {},
   "outputs": [
    {
     "name": "stdout",
     "output_type": "stream",
     "text": [
      "[12, 14, 15]\n"
     ]
    }
   ],
   "source": [
    "list5.pop(1) #1번 자리 13 꺼내기\n",
    "print(list5)"
   ]
  },
  {
   "cell_type": "code",
   "execution_count": 35,
   "metadata": {},
   "outputs": [
    {
     "name": "stdout",
     "output_type": "stream",
     "text": [
      "1\n"
     ]
    }
   ],
   "source": [
    "# count() : 리스트 요소 세기\n",
    "\n",
    "list5 = [1,2,3,4,5,6]\n",
    "print(list5.count(3))"
   ]
  },
  {
   "cell_type": "code",
   "execution_count": 36,
   "metadata": {},
   "outputs": [
    {
     "name": "stdout",
     "output_type": "stream",
     "text": [
      "[1, 2, 3, 4, 5, 6, 16, 17, 18]\n"
     ]
    }
   ],
   "source": [
    "# extend : 리스트 확장 (+ 와 같은결과)\n",
    "\n",
    "list5.extend([16,17,18])\n",
    "print(list5)\n"
   ]
  },
  {
   "cell_type": "code",
   "execution_count": 38,
   "metadata": {},
   "outputs": [
    {
     "name": "stdout",
     "output_type": "stream",
     "text": [
      "[]\n"
     ]
    }
   ],
   "source": [
    "# clear() : 리스트 요소 모두 삭제\n",
    "list5.clear()\n",
    "print(list5)"
   ]
  },
  {
   "cell_type": "code",
   "execution_count": 39,
   "metadata": {},
   "outputs": [
    {
     "name": "stdout",
     "output_type": "stream",
     "text": [
      "False\n"
     ]
    }
   ],
   "source": [
    "city = \"\"\n",
    "if city:\n",
    "    print(\"True\")\n",
    "else:\n",
    "    print(\"False\")"
   ]
  },
  {
   "cell_type": "code",
   "execution_count": 40,
   "metadata": {},
   "outputs": [
    {
     "name": "stdout",
     "output_type": "stream",
     "text": [
      "False\n"
     ]
    }
   ],
   "source": [
    "list1 = []\n",
    "if list1:\n",
    "    print(\"True\")\n",
    "else:\n",
    "    print(\"False\")"
   ]
  },
  {
   "cell_type": "code",
   "execution_count": 41,
   "metadata": {},
   "outputs": [
    {
     "name": "stdout",
     "output_type": "stream",
     "text": [
      "딸기 포함\n"
     ]
    }
   ],
   "source": [
    "fruit = [\"사과\",\"딸기\",\"배\",\"수박\"]\n",
    "if \"딸기\" in fruit:\n",
    "    print(\"딸기 포함\")\n",
    "else:\n",
    "    print(\"딸기 미 포함\")"
   ]
  },
  {
   "cell_type": "code",
   "execution_count": 1,
   "metadata": {},
   "outputs": [
    {
     "name": "stdout",
     "output_type": "stream",
     "text": [
      "(0, 23)\n",
      "(1, 12)\n",
      "(2, 36)\n",
      "(3, 53)\n",
      "(4, 19)\n"
     ]
    }
   ],
   "source": [
    "arr = [23,12,36,53,19] #enumerate: 인덱스처럼 번호가 부여되서 나옴\n",
    "\n",
    "for i in enumerate(arr):\n",
    "    print(i)"
   ]
  },
  {
   "cell_type": "code",
   "execution_count": 2,
   "metadata": {},
   "outputs": [
    {
     "name": "stdout",
     "output_type": "stream",
     "text": [
      "0 : 23\n",
      "1 : 12\n",
      "2 : 36\n",
      "3 : 53\n",
      "4 : 19\n"
     ]
    }
   ],
   "source": [
    "for idx, val in enumerate(arr):\n",
    "    print(\"%d : %d\" % (idx,val))"
   ]
  },
  {
   "cell_type": "code",
   "execution_count": 3,
   "metadata": {},
   "outputs": [
    {
     "name": "stdout",
     "output_type": "stream",
     "text": [
      "1 : 23\n",
      "2 : 12\n",
      "3 : 36\n",
      "4 : 53\n",
      "5 : 19\n"
     ]
    }
   ],
   "source": [
    "for idx, val in enumerate(arr,start=1): #1번부터로 인덱스값 설정\n",
    "    print(\"%d : %d\" % (idx,val))"
   ]
  },
  {
   "cell_type": "code",
   "execution_count": 4,
   "metadata": {},
   "outputs": [
    {
     "name": "stdout",
     "output_type": "stream",
     "text": [
      "a 학급의 총합 776 과 평균 : 77.6\n"
     ]
    }
   ],
   "source": [
    "# a학급에 총 10명의 학생이 있다. 이 학생들의 중간고사 점수는 다음과 같다.\n",
    "\n",
    "# 70,60,55,75,95,90,80,85,100,66\n",
    "\n",
    "# a학급의 점수를 리스트로 생성하고 총 합과 평균을 구하시오.\n",
    "\n",
    "a_class = [70,60,55,75,95,90,80,85,100,66]\n",
    "total = 0\n",
    "for num in a_class:\n",
    "    total += num\n",
    "print(\"a 학급의 총합 {} 과 평균 : {}\".format(total,(total/len(a_class))))"
   ]
  },
  {
   "cell_type": "code",
   "execution_count": 7,
   "metadata": {},
   "outputs": [
    {
     "name": "stdout",
     "output_type": "stream",
     "text": [
      "a 학급의 총합 776 과 평균 : 77.6\n"
     ]
    }
   ],
   "source": [
    "#sum (): 총 합계\n",
    "\n",
    "print(\"a 학급의 총합 {} 과 평균 : {}\".format(sum(a_class),(sum(a_class)/len(a_class))))"
   ]
  },
  {
   "cell_type": "code",
   "execution_count": 8,
   "metadata": {},
   "outputs": [
    {
     "data": {
      "text/plain": [
       "97"
      ]
     },
     "execution_count": 8,
     "metadata": {},
     "output_type": "execute_result"
    }
   ],
   "source": [
    "ord('a') # 문자의 아스키 코드 값 돌려주는 함수 "
   ]
  },
  {
   "cell_type": "code",
   "execution_count": 9,
   "metadata": {},
   "outputs": [
    {
     "data": {
      "text/plain": [
       "65"
      ]
     },
     "execution_count": 9,
     "metadata": {},
     "output_type": "execute_result"
    }
   ],
   "source": [
    "ord('A')"
   ]
  },
  {
   "cell_type": "code",
   "execution_count": 10,
   "metadata": {},
   "outputs": [
    {
     "data": {
      "text/plain": [
       "'a'"
      ]
     },
     "execution_count": 10,
     "metadata": {},
     "output_type": "execute_result"
    }
   ],
   "source": [
    "chr(97) # 숫자에 해당하는 문자 돌려주는 함수"
   ]
  },
  {
   "cell_type": "code",
   "execution_count": 14,
   "metadata": {},
   "outputs": [
    {
     "name": "stdout",
     "output_type": "stream",
     "text": [
      "[1]자동차 넣기 | [2]자동차 빼기 | [3]종료 :1\n",
      "A 자동차 들어감. 주차장 상태 ==> ['A']\n",
      "[1]자동차 넣기 | [2]자동차 빼기 | [3]종료 :1\n",
      "B 자동차 들어감. 주차장 상태 ==> ['A', 'B']\n",
      "[1]자동차 넣기 | [2]자동차 빼기 | [3]종료 :1\n",
      "C 자동차 들어감. 주차장 상태 ==> ['A', 'B', 'C']\n",
      "[1]자동차 넣기 | [2]자동차 빼기 | [3]종료 :2\n",
      "C 자동차 나감. 주차장 상태 ==> ['A', 'B']\n",
      "[1]자동차 넣기 | [2]자동차 빼기 | [3]종료 :3\n",
      "프로그램 종료\n"
     ]
    }
   ],
   "source": [
    "# 주차장\n",
    "\n",
    "parking_lot = []\n",
    "top, car_name = 0, \"A\"\n",
    "\n",
    "while True:\n",
    "    # 메뉴 입력받기\n",
    "    menu = int(input(\"[1]자동차 넣기 | [2]자동차 빼기 | [3]종료 :\"))\n",
    "    \n",
    "    if menu <= 3:\n",
    "        if menu == 1:\n",
    "            if top >= 5:\n",
    "                print(\"주차장 꽉 찼음\")\n",
    "            else:\n",
    "                parking_lot.append(car_name)\n",
    "                print(\"{} 자동차 들어감. 주차장 상태 ==> {}\".format(car_name,parking_lot))\n",
    "                # print(\"%c 자동차 들어감. 주차장 상태 ==> %s\" % (car_name,parking_lot))\n",
    "                \n",
    "                top += 1 #자동차가 들어갈 위치\n",
    "                car_name = chr(ord(car_name)+1) #다음 자동차 명\n",
    "        elif menu == 2:\n",
    "            if top > 0:\n",
    "                outCar = parking_lot.pop()\n",
    "                print(\"%c 자동차 나감. 주차장 상태 ==> %s\" % (outCar,parking_lot))\n",
    "                \n",
    "                top -= 1\n",
    "                car_name = chr(ord(car_name)-1) #다음 자동차 명\n",
    "            else:\n",
    "                print(\"빠져나갈 자동차가 없음\")\n",
    "                \n",
    "        else: #3번을 누르면\n",
    "            print(\"프로그램 종료\")\n",
    "            break \n",
    "            \n",
    "    else:\n",
    "        print(\"번호를 확인해 주세요\")"
   ]
  },
  {
   "cell_type": "code",
   "execution_count": null,
   "metadata": {},
   "outputs": [],
   "source": []
  },
  {
   "cell_type": "code",
   "execution_count": 15,
   "metadata": {},
   "outputs": [
    {
     "name": "stdout",
     "output_type": "stream",
     "text": [
      "35\n"
     ]
    }
   ],
   "source": [
    "#1. 아래 문자열의 길이 구하기\n",
    "\n",
    "q1 = \"dk2jd923i1jdk2jd2536jd918943jfd8923\"\n",
    "print(len(q1))"
   ]
  },
  {
   "cell_type": "code",
   "execution_count": 16,
   "metadata": {},
   "outputs": [
    {
     "name": "stdout",
     "output_type": "stream",
     "text": [
      "****************************************************************************************************\n"
     ]
    }
   ],
   "source": [
    "#2. 화면에 * 기호 100개 표시하기\n",
    "\n",
    "print(\"*\" * 100)"
   ]
  },
  {
   "cell_type": "code",
   "execution_count": 17,
   "metadata": {},
   "outputs": [
    {
     "name": "stdout",
     "output_type": "stream",
     "text": [
      "30\n",
      "30.0\n"
     ]
    }
   ],
   "source": [
    "#3. 문자열 \"30\"을 각각 정수형, 실수형으로 변환하기\n",
    "\n",
    "str = \"30\"\n",
    "\n",
    "print(int(str))\n",
    "print(float(str))"
   ]
  },
  {
   "cell_type": "code",
   "execution_count": 19,
   "metadata": {},
   "outputs": [
    {
     "name": "stdout",
     "output_type": "stream",
     "text": [
      "yrrebartS\n"
     ]
    }
   ],
   "source": [
    "#4. 다음 문자열 거꾸로 출력하기 :\"Strawberry\"\n",
    "\n",
    "print(\"Straberry\"[::-1])"
   ]
  },
  {
   "cell_type": "code",
   "execution_count": 18,
   "metadata": {},
   "outputs": [
    {
     "name": "stdout",
     "output_type": "stream",
     "text": [
      "01077779999\n"
     ]
    }
   ],
   "source": [
    "#5. 다음 문자열에서 '-'를 제거한 후 출력하기\n",
    "tel = \"010-7777-9999\"\n",
    "\n",
    "print(tel[:3]+tel[4:8]+tel[9:13])"
   ]
  },
  {
   "cell_type": "code",
   "execution_count": 35,
   "metadata": {},
   "outputs": [
    {
     "name": "stdout",
     "output_type": "stream",
     "text": [
      "www.daum.net\n"
     ]
    }
   ],
   "source": [
    "#6. 다음 문자열에서 \"http://\" 부분 제거한 후 출력하기\n",
    "url = \"http://www.daum.net\"\n",
    "\n",
    "print(url.replace(\"http://\",\"\"))"
   ]
  },
  {
   "cell_type": "code",
   "execution_count": 36,
   "metadata": {},
   "outputs": [
    {
     "name": "stdout",
     "output_type": "stream",
     "text": [
      "['Banana', 'Orange']\n"
     ]
    }
   ],
   "source": [
    "#7. 다음 리스트에서 \"Apple\" 항목만 삭제한 후 출력하기 \n",
    "list1 = [\"Banana\",\"Apple\",\"Orange\"]\n",
    "list1.remove(\"Apple\")\n",
    "print(list1)"
   ]
  },
  {
   "cell_type": "code",
   "execution_count": 21,
   "metadata": {},
   "outputs": [
    {
     "name": "stdout",
     "output_type": "stream",
     "text": [
      "study python anaconda "
     ]
    }
   ],
   "source": [
    "#8. 다음 리스트 항목 중에서 5글자 이상의 단어만 출력하기\n",
    "list2 = [\"nice\",\"study\",\"python\",'anaconda',\"!\"]\n",
    "\n",
    "for str in list2:\n",
    "    if len(str) >= 5:\n",
    "        print(str,end=\" \")"
   ]
  },
  {
   "cell_type": "code",
   "execution_count": 20,
   "metadata": {},
   "outputs": [
    {
     "name": "stdout",
     "output_type": "stream",
     "text": [
      "b\n",
      "c\n",
      "e\n",
      "h\n"
     ]
    }
   ],
   "source": [
    "#9. 다음 리스트 항목 중에서 소문자만 출력하기\n",
    "list3 = [\"A\",\"b\",\"c\",\"D\",\"e\",\"F\",\"G\",\"h\"]\n",
    "\n",
    "for ch in list3:\n",
    "    if ch.islower():\n",
    "        print(ch)"
   ]
  },
  {
   "cell_type": "code",
   "execution_count": 22,
   "metadata": {},
   "outputs": [
    {
     "name": "stdout",
     "output_type": "stream",
     "text": [
      "a B C d E f g H "
     ]
    }
   ],
   "source": [
    "#10. 다음 리스트 항목 중에서 소문자는 대문자로 대문자는 소문자로 출력하기\n",
    "list3 = [\"A\",\"b\",\"c\",\"D\",\"e\",\"F\",\"G\",\"h\"]\n",
    "\n",
    "for ch in list3:\n",
    "    if ch.islower():\n",
    "        print(ch.upper(), end=\" \")\n",
    "    else:\n",
    "        print(ch.lower(), end=\" \")"
   ]
  },
  {
   "cell_type": "code",
   "execution_count": 23,
   "metadata": {},
   "outputs": [
    {
     "name": "stdout",
     "output_type": "stream",
     "text": [
      "a B C d E f g H "
     ]
    }
   ],
   "source": [
    "for ch in list3:\n",
    "    print(ch.swapcase(), end=\" \")"
   ]
  },
  {
   "cell_type": "markdown",
   "metadata": {},
   "source": [
    " ## 리스트 컴프리헨션 - 내포 표기"
   ]
  },
  {
   "cell_type": "code",
   "execution_count": 24,
   "metadata": {
    "scrolled": true
   },
   "outputs": [
    {
     "name": "stdout",
     "output_type": "stream",
     "text": [
      "[2, 4, 6, 8]\n"
     ]
    }
   ],
   "source": [
    "print([x*2 for x in [1,2,3,4]])"
   ]
  },
  {
   "cell_type": "code",
   "execution_count": 25,
   "metadata": {},
   "outputs": [
    {
     "name": "stdout",
     "output_type": "stream",
     "text": [
      "[0, 1, 4, 9, 16]\n"
     ]
    }
   ],
   "source": [
    "print([x*x for x in range(5)])"
   ]
  },
  {
   "cell_type": "code",
   "execution_count": 26,
   "metadata": {},
   "outputs": [
    {
     "name": "stdout",
     "output_type": "stream",
     "text": [
      "[[1, 2, 3], [2, 3, 4], [3, 4, 5]]\n"
     ]
    }
   ],
   "source": [
    "# [1,2,3] => [[1,2,3],\n",
    "#              [2,3,4],\n",
    "#              [3,4,5]]\n",
    "\n",
    "print([[x,x+1,x+2] for x in [1,2,3]])"
   ]
  },
  {
   "cell_type": "code",
   "execution_count": 29,
   "metadata": {},
   "outputs": [
    {
     "name": "stdout",
     "output_type": "stream",
     "text": [
      "[[0, 0, 0], [0, 0, 0], [0, 0, 0], [0, 0, 0]]\n"
     ]
    }
   ],
   "source": [
    "# [[0, 0, 0], [0, 0, 0], [0, 0, 0], [0, 0, 0]]\n",
    "\n",
    "print([[0 for x in range(3)] for y in range(4)])"
   ]
  },
  {
   "cell_type": "code",
   "execution_count": 33,
   "metadata": {},
   "outputs": [
    {
     "name": "stdout",
     "output_type": "stream",
     "text": [
      "[[0, 1, 2], [3, 4, 5], [6, 7, 8], [9, 10, 11]]\n"
     ]
    }
   ],
   "source": [
    "# [[0,1,2],[3,4,5],[6,7,8],[9,10,11]]\n",
    "\n",
    "list1 = []\n",
    "list2 = []\n",
    "\n",
    "for x in range(4):\n",
    "    for y in [0,1,2]:\n",
    "        list1.append(y+x*3)\n",
    "    list2.append(list1)\n",
    "    list1 = []\n",
    "print(list2)"
   ]
  },
  {
   "cell_type": "code",
   "execution_count": 34,
   "metadata": {},
   "outputs": [
    {
     "name": "stdout",
     "output_type": "stream",
     "text": [
      "[[0, 1, 2], [3, 4, 5], [6, 7, 8], [9, 10, 11]]\n"
     ]
    }
   ],
   "source": [
    "print([[y+x*3 for y in [0,1,2]] for x in range(4)])"
   ]
  },
  {
   "cell_type": "code",
   "execution_count": null,
   "metadata": {},
   "outputs": [],
   "source": []
  },
  {
   "cell_type": "code",
   "execution_count": null,
   "metadata": {},
   "outputs": [],
   "source": []
  },
  {
   "cell_type": "code",
   "execution_count": null,
   "metadata": {},
   "outputs": [],
   "source": []
  }
 ],
 "metadata": {
  "kernelspec": {
   "display_name": "Python 3",
   "language": "python",
   "name": "python3"
  },
  "language_info": {
   "codemirror_mode": {
    "name": "ipython",
    "version": 3
   },
   "file_extension": ".py",
   "mimetype": "text/x-python",
   "name": "python",
   "nbconvert_exporter": "python",
   "pygments_lexer": "ipython3",
   "version": "3.8.5"
  }
 },
 "nbformat": 4,
 "nbformat_minor": 4
}
