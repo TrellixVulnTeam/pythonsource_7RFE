{
 "cells": [
  {
   "cell_type": "code",
   "execution_count": 1,
   "metadata": {},
   "outputs": [],
   "source": [
    "str1 = \"Life is too short, You need Python\"\n",
    "str2 = 'Life is too short, You need Python'\n",
    "str3 = \"\"\"Life is too short, You need Python\"\"\"\n",
    "str4 = '''Life is too short, You need Python'''\n",
    "str5 = \"123\"\n",
    "\n",
    "num1 = 10\n",
    "num2 = 10.1"
   ]
  },
  {
   "cell_type": "code",
   "execution_count": 2,
   "metadata": {},
   "outputs": [
    {
     "name": "stdout",
     "output_type": "stream",
     "text": [
      "Life is too short, You need Python\n",
      "Life is too short, You need Python\n",
      "Life is too short, You need Python\n",
      "Life is too short, You need Python\n",
      "123\n"
     ]
    }
   ],
   "source": [
    "print(str1)\n",
    "print(str2)\n",
    "print(str3)\n",
    "print(str4)\n",
    "print(str5)"
   ]
  },
  {
   "cell_type": "code",
   "execution_count": 3,
   "metadata": {},
   "outputs": [
    {
     "name": "stdout",
     "output_type": "stream",
     "text": [
      "20.1\n"
     ]
    }
   ],
   "source": [
    "print(num1+num2)"
   ]
  },
  {
   "cell_type": "code",
   "execution_count": 5,
   "metadata": {},
   "outputs": [
    {
     "name": "stdout",
     "output_type": "stream",
     "text": [
      "3\n",
      "3\n"
     ]
    }
   ],
   "source": [
    "a = b = 3\n",
    "print(a)\n",
    "print(b)"
   ]
  },
  {
   "cell_type": "code",
   "execution_count": 6,
   "metadata": {},
   "outputs": [
    {
     "name": "stdout",
     "output_type": "stream",
     "text": [
      "10\n",
      "15\n"
     ]
    }
   ],
   "source": [
    "a, b = 10,15\n",
    "print(a)\n",
    "print(b)"
   ]
  },
  {
   "cell_type": "code",
   "execution_count": 9,
   "metadata": {},
   "outputs": [
    {
     "name": "stdout",
     "output_type": "stream",
     "text": [
      "a= 15\n",
      "b= 10\n"
     ]
    }
   ],
   "source": [
    "a, b = b,a #변수 변경 대입 가능\n",
    "print(\"a=\",a)\n",
    "print(\"b=\",b)"
   ]
  },
  {
   "cell_type": "code",
   "execution_count": 10,
   "metadata": {},
   "outputs": [
    {
     "name": "stdout",
     "output_type": "stream",
     "text": [
      "500  Hello\n"
     ]
    }
   ],
   "source": [
    "str1 = 500\n",
    "num1 = \"Hello\"\n",
    "print(str1,\"\",num1)"
   ]
  },
  {
   "cell_type": "code",
   "execution_count": 12,
   "metadata": {},
   "outputs": [
    {
     "name": "stdout",
     "output_type": "stream",
     "text": [
      "123\n",
      "-173\n"
     ]
    }
   ],
   "source": [
    "# 정수형\n",
    "\n",
    "a = 123\n",
    "b = -173\n",
    "print(a)\n",
    "print(b)"
   ]
  },
  {
   "cell_type": "code",
   "execution_count": 11,
   "metadata": {},
   "outputs": [
    {
     "name": "stdout",
     "output_type": "stream",
     "text": [
      "(1, 2)\n",
      "-3.45\n",
      "42400000000.0\n",
      "4.24e-10\n"
     ]
    }
   ],
   "source": [
    "# 실수형\n",
    "\n",
    "a = 1,2\n",
    "b = -3.45\n",
    "c = 4.24E10\n",
    "d = 4.24e-10\n",
    "print(a)\n",
    "print(b)\n",
    "print(c)\n",
    "print(d)"
   ]
  },
  {
   "cell_type": "code",
   "execution_count": 14,
   "metadata": {},
   "outputs": [
    {
     "name": "stdout",
     "output_type": "stream",
     "text": [
      "127\n",
      "5393\n"
     ]
    }
   ],
   "source": [
    "# 8진수(0o), 16진수(0x) \n",
    "\n",
    "print(0o177) #8진수 177 = 1*8의 2승 + 7*8의 1승 + 7*8의 0승\n",
    "print(0x1511) #16진수 1511 = 1*16의 3승 + 5*16의 2승 + 1*16의 1승 + 1*16의 0승"
   ]
  },
  {
   "cell_type": "code",
   "execution_count": 15,
   "metadata": {},
   "outputs": [
    {
     "name": "stdout",
     "output_type": "stream",
     "text": [
      "a+b= 7\n",
      "a-b= -1\n",
      "a*b= 7\n",
      "a/b= 0.75\n",
      "a//b= 0\n",
      "a%b= 3\n",
      "a**b= 81\n"
     ]
    }
   ],
   "source": [
    "#연산자\n",
    "a,b = 3,4\n",
    "\n",
    "print(\"a+b=\",a+b)\n",
    "print(\"a-b=\",a-b)\n",
    "print(\"a*b=\",a+b)\n",
    "print(\"a/b=\",a/b)   # 나누기 : 소수점 결과까지 포함\n",
    "print(\"a//b=\",a//b) # 소수점 결과는 버림\n",
    "print(\"a%b=\",a%b)\n",
    "print(\"a**b=\",a**b) # 제곱"
   ]
  },
  {
   "cell_type": "code",
   "execution_count": 16,
   "metadata": {},
   "outputs": [
    {
     "name": "stdout",
     "output_type": "stream",
     "text": [
      "True\n",
      "<class 'bool'>\n"
     ]
    }
   ],
   "source": [
    "b = True\n",
    "print(b)\n",
    "print(type(b))"
   ]
  },
  {
   "cell_type": "markdown",
   "metadata": {},
   "source": [
    "### 변수 형 변환\n",
    "- str() : 문자 타입으로 변환\n",
    "- int() : 정수 타입으로 변환\n",
    "- float() : 실수 타입으로 변환\n",
    "- bool() : 불린 타입으로 변환"
   ]
  },
  {
   "cell_type": "code",
   "execution_count": 17,
   "metadata": {},
   "outputs": [
    {
     "name": "stdout",
     "output_type": "stream",
     "text": [
      "<class 'int'>\n",
      "<class 'str'>\n"
     ]
    }
   ],
   "source": [
    "print(type(3))\n",
    "print(type(str(3)))"
   ]
  },
  {
   "cell_type": "code",
   "execution_count": 20,
   "metadata": {},
   "outputs": [
    {
     "name": "stdout",
     "output_type": "stream",
     "text": [
      "<class 'str'>\n",
      "10000.0\n"
     ]
    }
   ],
   "source": [
    "print(type(str(3.5)))\n",
    "print(str(1.0e4))"
   ]
  },
  {
   "cell_type": "code",
   "execution_count": 21,
   "metadata": {},
   "outputs": [
    {
     "name": "stdout",
     "output_type": "stream",
     "text": [
      "1\n",
      "0\n"
     ]
    }
   ],
   "source": [
    "print(int(True))\n",
    "print(int(False))"
   ]
  },
  {
   "cell_type": "code",
   "execution_count": 25,
   "metadata": {},
   "outputs": [
    {
     "name": "stdout",
     "output_type": "stream",
     "text": [
      "98\n",
      "99\n"
     ]
    }
   ],
   "source": [
    "print(int(98.6)) #실수를 정수로 변환\n",
    "print(int('99')) #문자를 정수로 변환\n",
    "#print(int('98.6')) #문자열 실수는 정수로 변환 불가  error발생"
   ]
  },
  {
   "cell_type": "code",
   "execution_count": 26,
   "metadata": {},
   "outputs": [
    {
     "name": "stdout",
     "output_type": "stream",
     "text": [
      "1.0\n",
      "0.0\n",
      "98.6\n",
      "99.6\n",
      "10000.0\n"
     ]
    }
   ],
   "source": [
    "print(float(True)) #실수형으로 변환\n",
    "print(float(False))\n",
    "print(float(98.6))\n",
    "print(float('99.6'))\n",
    "print(float('1.0e4'))"
   ]
  },
  {
   "cell_type": "code",
   "execution_count": 28,
   "metadata": {},
   "outputs": [
    {
     "name": "stdout",
     "output_type": "stream",
     "text": [
      "<class 'bool'> True\n",
      "<class 'bool'> True\n"
     ]
    }
   ],
   "source": [
    "print(type(bool(99)), bool(99))\n",
    "print(type(bool(0.1)), bool(0.1))"
   ]
  },
  {
   "cell_type": "code",
   "execution_count": 30,
   "metadata": {},
   "outputs": [
    {
     "name": "stdout",
     "output_type": "stream",
     "text": [
      "101\n"
     ]
    }
   ],
   "source": [
    "#print(\"100\"+1) #문자열 + 숫자 = error \n",
    "print(int(\"100\")+1)"
   ]
  },
  {
   "cell_type": "code",
   "execution_count": 31,
   "metadata": {},
   "outputs": [
    {
     "name": "stdout",
     "output_type": "stream",
     "text": [
      "1001\n"
     ]
    }
   ],
   "source": [
    "print(\"100\"+str(1)) #문자+문자 +:연결의 의미"
   ]
  },
  {
   "cell_type": "code",
   "execution_count": 33,
   "metadata": {},
   "outputs": [
    {
     "name": "stdout",
     "output_type": "stream",
     "text": [
      "15\n",
      "10\n",
      "50\n",
      "10.0\n",
      "2.0\n",
      "2.0\n",
      "32.0\n"
     ]
    }
   ],
   "source": [
    "# 대입연산자\n",
    "\n",
    "a = 10\n",
    "a += 5\n",
    "print(a)\n",
    "\n",
    "a -= 5\n",
    "print(a)\n",
    "\n",
    "a *= 5\n",
    "print(a)\n",
    "\n",
    "a /= 5\n",
    "print(a)\n",
    "\n",
    "a //= 5\n",
    "print(a)\n",
    "\n",
    "a %= 5\n",
    "print(a)\n",
    "\n",
    "a **= 5\n",
    "print(a)"
   ]
  },
  {
   "cell_type": "code",
   "execution_count": 37,
   "metadata": {},
   "outputs": [
    {
     "name": "stdout",
     "output_type": "stream",
     "text": [
      "지폐 교환\n",
      "50,000원 : 15 장\n",
      "10,000원 : 2 장\n",
      "5,000원 : 1 장\n",
      "1,000원 : 2 장\n",
      "나머지 돈 : 777\n"
     ]
    }
   ],
   "source": [
    "# 777,777 원 교환하기 : 5만원, 1만원, 5천원, 1천원\n",
    "\n",
    "money, c50000, c10000, c5000, c1000 = 777777,0,0,0,0\n",
    "\n",
    "# 5만원\n",
    "c50000 = money // 50000\n",
    "money %= 50000\n",
    "\n",
    "#1만원\n",
    "c10000 = money // 10000\n",
    "money %= 10000\n",
    "\n",
    "#5천원\n",
    "c5000 = money // 5000\n",
    "money %= 5000\n",
    "\n",
    "#1천원\n",
    "c1000 = money // 1000\n",
    "money %= 1000\n",
    "\n",
    "print(\"지폐 교환\")\n",
    "print(\"50,000원 : %d 장\" % c50000)\n",
    "print(\"10,000원 : %d 장\" % c10000)\n",
    "print(\"5,000원 : %d 장\" % c5000)\n",
    "print(\"1,000원 : %d 장\" % c1000)\n",
    "print(\"나머지 돈 : %d\" % money)"
   ]
  },
  {
   "cell_type": "code",
   "execution_count": null,
   "metadata": {},
   "outputs": [],
   "source": []
  }
 ],
 "metadata": {
  "kernelspec": {
   "display_name": "Python 3",
   "language": "python",
   "name": "python3"
  },
  "language_info": {
   "codemirror_mode": {
    "name": "ipython",
    "version": 3
   },
   "file_extension": ".py",
   "mimetype": "text/x-python",
   "name": "python",
   "nbconvert_exporter": "python",
   "pygments_lexer": "ipython3",
   "version": "3.8.5"
  }
 },
 "nbformat": 4,
 "nbformat_minor": 4
}
