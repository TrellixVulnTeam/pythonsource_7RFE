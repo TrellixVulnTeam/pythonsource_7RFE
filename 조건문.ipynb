{
 "cells": [
  {
   "cell_type": "markdown",
   "metadata": {},
   "source": [
    "## 블럭 => 탭\n",
    "- {} 개념이 없음"
   ]
  },
  {
   "cell_type": "code",
   "execution_count": 3,
   "metadata": {},
   "outputs": [
    {
     "name": "stdout",
     "output_type": "stream",
     "text": [
      "True\n"
     ]
    }
   ],
   "source": [
    "if True:\n",
    "    print(\"True\") # 콜론으로 끝내면 다음칸은 탭키가 먹힌 상태로 커서가 이동. True 첫글자는 대문자 사용"
   ]
  },
  {
   "cell_type": "code",
   "execution_count": 4,
   "metadata": {},
   "outputs": [
    {
     "name": "stdout",
     "output_type": "stream",
     "text": [
      "조건문과 반복문에서 들여쓰기는 하나의 블럭을 의미\n"
     ]
    }
   ],
   "source": [
    "a = 200\n",
    "if a <200:\n",
    "    print(\"a는 200보다 작다\") #결과는 false이기 떄문에 출력되지 않고 밑에있는 print만 출력됨\n",
    "    \n",
    "print(\"조건문과 반복문에서 들여쓰기는 하나의 블럭을 의미\")"
   ]
  },
  {
   "cell_type": "code",
   "execution_count": 5,
   "metadata": {},
   "outputs": [
    {
     "name": "stdout",
     "output_type": "stream",
     "text": [
      "a는 100과 200 사이에 있다\n"
     ]
    }
   ],
   "source": [
    "# a가 100보다 크고 200보다 작거나 같다\n",
    "\n",
    "if a > 100 and a <= 200:\n",
    "    print(\"a는 100과 200 사이에 있다\")"
   ]
  },
  {
   "cell_type": "code",
   "execution_count": 7,
   "metadata": {},
   "outputs": [
    {
     "name": "stdout",
     "output_type": "stream",
     "text": [
      "a는 100과 200 사이에 있다\n"
     ]
    }
   ],
   "source": [
    "if 100 < a <= 200:\n",
    "    print(\"a는 100과 200 사이에 있다\")"
   ]
  },
  {
   "cell_type": "code",
   "execution_count": 10,
   "metadata": {},
   "outputs": [
    {
     "name": "stdout",
     "output_type": "stream",
     "text": [
      "제일 큰 수 :  18\n",
      "제일 큰 수 : 18 \n",
      "제일 큰 수 : 18 \n"
     ]
    }
   ],
   "source": [
    "# a,b,c = 12,6,18 이중에서 제일 큰 숫자를 출력하기\n",
    "\n",
    "a,b,c = 12,6,18\n",
    "max = a\n",
    "if max < b:\n",
    "    max = b\n",
    "if max < c:\n",
    "    max = c\n",
    "    \n",
    "print(\"제일 큰 수 : \",max)\n",
    "print(\"제일 큰 수 : %d \" % max)\n",
    "print(\"제일 큰 수 : {} \".format(max))"
   ]
  },
  {
   "cell_type": "code",
   "execution_count": 11,
   "metadata": {},
   "outputs": [
    {
     "name": "stdout",
     "output_type": "stream",
     "text": [
      "True\n"
     ]
    }
   ],
   "source": [
    "if True:\n",
    "    print(\"True\")\n",
    "else:\n",
    "    print(\"False\")"
   ]
  },
  {
   "cell_type": "code",
   "execution_count": 12,
   "metadata": {},
   "outputs": [
    {
     "name": "stdout",
     "output_type": "stream",
     "text": [
      "a는 100보다 작다\n"
     ]
    }
   ],
   "source": [
    "a = 55\n",
    "if a<100:\n",
    "    print(\"a는 100보다 작다\")\n",
    "else:\n",
    "    print(\"a는 100보다 크다\")"
   ]
  },
  {
   "cell_type": "code",
   "execution_count": 14,
   "metadata": {},
   "outputs": [
    {
     "name": "stdout",
     "output_type": "stream",
     "text": [
      "숫자를 입력하세요: 2\n",
      "짝수입니다.\n"
     ]
    }
   ],
   "source": [
    "# 사용자로부터 숫자를 입력받아 그 숫자가 짝수인지 홀수인지 출력하기\n",
    "num1 = int(input(\"숫자를 입력하세요: \"))\n",
    "if num1 % 2 ==0:\n",
    "    print(\"짝수입니다.\")\n",
    "else:\n",
    "    print(\"홀수입니다.\")"
   ]
  },
  {
   "cell_type": "code",
   "execution_count": 18,
   "metadata": {},
   "outputs": [
    {
     "name": "stdout",
     "output_type": "stream",
     "text": [
      "2021-02-15 11:08:42.707858\n",
      "2021년 2월 15일 11시 8분 42초\n"
     ]
    }
   ],
   "source": [
    "import datetime #파이썬이 기본으로 가지고 있는 날짜 객체\n",
    "\n",
    "now=datetime.datetime.now()\n",
    "print(now)\n",
    "\n",
    "print(\"{}년 {}월 {}일 {}시 {}분 {}초\".format(now.year,now.month,now.day,now.hour,now.minute,now.second))"
   ]
  },
  {
   "cell_type": "code",
   "execution_count": 21,
   "metadata": {},
   "outputs": [
    {
     "name": "stdout",
     "output_type": "stream",
     "text": [
      "오전\n"
     ]
    }
   ],
   "source": [
    "# 현재 시간이 오전인지 오후인지 출력하기\n",
    "if now.hour < 12:\n",
    "    print(\"오전\")\n",
    "else:\n",
    "    print(\"오후\")"
   ]
  },
  {
   "cell_type": "markdown",
   "metadata": {},
   "source": [
    "## 삼항연산자\n",
    "- 참일때 실행될 구문 if 조건 else 거짓일때 수행될 구문"
   ]
  },
  {
   "cell_type": "code",
   "execution_count": 22,
   "metadata": {},
   "outputs": [
    {
     "name": "stdout",
     "output_type": "stream",
     "text": [
      "안녕하세요\n"
     ]
    }
   ],
   "source": [
    "str = \"안녕하세요\" if True else \"반갑습니다.\" #삼항연산자와 같은개념\n",
    "print(str)"
   ]
  },
  {
   "cell_type": "code",
   "execution_count": 23,
   "metadata": {},
   "outputs": [
    {
     "name": "stdout",
     "output_type": "stream",
     "text": [
      "비어 있는 배열\n"
     ]
    }
   ],
   "source": [
    "a = [] #비어있으면 false\n",
    "str = a if a else \"비어 있는 배열\"\n",
    "print(str)"
   ]
  },
  {
   "cell_type": "markdown",
   "metadata": {},
   "source": [
    "# if - elif - else 다중조건문"
   ]
  },
  {
   "cell_type": "code",
   "execution_count": 24,
   "metadata": {},
   "outputs": [
    {
     "name": "stdout",
     "output_type": "stream",
     "text": [
      "num 등급 A\n"
     ]
    }
   ],
   "source": [
    "num = 90\n",
    "\n",
    "if num >= 90:\n",
    "    print(\"num 등급 A\")\n",
    "elif num >= 80:\n",
    "    print(\"num 등급 B\")\n",
    "elif num >= 70:\n",
    "    print(\"num 등급 C\")\n",
    "elif num >= 60:\n",
    "    print(\"num 등급 D\")\n",
    "else:\n",
    "    print(\"num 등급 F\")"
   ]
  },
  {
   "cell_type": "code",
   "execution_count": 25,
   "metadata": {},
   "outputs": [
    {
     "name": "stdout",
     "output_type": "stream",
     "text": [
      "A 지망 지원 가능\n"
     ]
    }
   ],
   "source": [
    "age = 27\n",
    "height = 180\n",
    "\n",
    "if age >= 20:\n",
    "    if height >= 170:\n",
    "        print(\"A 지망 지원 가능\")\n",
    "    elif height >= 160:\n",
    "        print(\"B 지망 지원 가능\")\n",
    "    else:\n",
    "        print(\"지원불가\")\n",
    "else:\n",
    "    print(\"20세 이상 지원 가능\")"
   ]
  },
  {
   "cell_type": "code",
   "execution_count": 26,
   "metadata": {},
   "outputs": [
    {
     "name": "stdout",
     "output_type": "stream",
     "text": [
      "점수를 입력하세요 : 55\n",
      "C 학점\n"
     ]
    }
   ],
   "source": [
    "# 점수를 입력받아 학점 출력하기\n",
    "# 81~100 : A학점, 61~80 : B학점, 41~60 : C학점, 21~40 : D학점, E학점\n",
    "\n",
    "jumsu = int(input(\"점수를 입력하세요 : \"))\n",
    "\n",
    "if jumsu > 80:\n",
    "    print(\"A 학점\")\n",
    "elif jumsu > 60:\n",
    "    print(\"B 학점\")\n",
    "elif jumsu > 40:\n",
    "    print(\"C 학점\")\n",
    "elif jumsu > 20:\n",
    "    print(\"D 학점\")\n",
    "else:\n",
    "    print(\"F 학점\")"
   ]
  },
  {
   "cell_type": "code",
   "execution_count": 27,
   "metadata": {},
   "outputs": [
    {
     "name": "stdout",
     "output_type": "stream",
     "text": [
      "첫번째 숫자를 입력하세요 : 1\n",
      "연산자를 입력하세요 : -\n",
      "두번째 숫자를 입력하세요 : 2\n",
      "1 - 2  = -1\n"
     ]
    }
   ],
   "source": [
    "# 계산기 - 두개의 숫자 입력받기\n",
    "# 연산자(+,-,*,/,//,**,%) 입력받기\n",
    "\n",
    "num1 = int(input(\"첫번째 숫자를 입력하세요 : \"))\n",
    "op = input(\"연산자(+,-,*,/,//,**,%)를 입력하세요 : \")\n",
    "num2 = int(input(\"두번째 숫자를 입력하세요 : \"))\n",
    "\n",
    "if op == \"+\":\n",
    "    print(\"{} {} {}  = {}\".format(num1,op,num2,num1+num2))\n",
    "elif op == \"-\":\n",
    "    print(\"{} {} {}  = {}\".format(num1,op,num2,num1-num2))\n",
    "elif op == \"*\":\n",
    "    print(\"{} {} {}  = {}\".format(num1,op,num2,num1*num2))\n",
    "elif op == \"/\":\n",
    "    print(\"{} {} {}  = {}\".format(num1,op,num2,num1/-num2))\n",
    "elif op == \"//\":\n",
    "    print(\"{} {} {}  = {}\".format(num1,op,num2,num1//num2))\n",
    "elif op == \"**\":\n",
    "    print(\"{} {} {}  = {}\".format(num1,op,num2,num1**num2))\n",
    "elif op == \"%\":\n",
    "    print(\"{} {} {}  = {}\".format(num1,op,num2,num1%num2))\n",
    "else:\n",
    "    print(\"연사자를 다시 확인해 주세요\")"
   ]
  },
  {
   "cell_type": "code",
   "execution_count": 1,
   "metadata": {},
   "outputs": [
    {
     "name": "stdout",
     "output_type": "stream",
     "text": [
      "55\n"
     ]
    }
   ],
   "source": [
    "print(sum(range(1,11))) # 1~11까지 합계 range: 범위"
   ]
  },
  {
   "cell_type": "code",
   "execution_count": 2,
   "metadata": {},
   "outputs": [
    {
     "name": "stdout",
     "output_type": "stream",
     "text": [
      "5050\n"
     ]
    }
   ],
   "source": [
    "print(sum(range(1,101))) # 1~100까지 합계"
   ]
  },
  {
   "cell_type": "code",
   "execution_count": 3,
   "metadata": {},
   "outputs": [
    {
     "name": "stdout",
     "output_type": "stream",
     "text": [
      "2500\n"
     ]
    }
   ],
   "source": [
    "print(sum(range(1,101,2))) # 1~100까지 홀수의 합계"
   ]
  }
 ],
 "metadata": {
  "kernelspec": {
   "display_name": "Python 3",
   "language": "python",
   "name": "python3"
  },
  "language_info": {
   "codemirror_mode": {
    "name": "ipython",
    "version": 3
   },
   "file_extension": ".py",
   "mimetype": "text/x-python",
   "name": "python",
   "nbconvert_exporter": "python",
   "pygments_lexer": "ipython3",
   "version": "3.8.5"
  }
 },
 "nbformat": 4,
 "nbformat_minor": 4
}
