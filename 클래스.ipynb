{
 "cells": [
  {
   "cell_type": "markdown",
   "metadata": {},
   "source": [
    "## 학생 3명의 정보 (이름,학번, 학년, 학생정보(성별,과목성적))을 담아서 처리"
   ]
  },
  {
   "cell_type": "code",
   "execution_count": 1,
   "metadata": {},
   "outputs": [],
   "source": [
    "# 학생 1\n",
    "student_name_1 = \"Kim\"\n",
    "student_number_1 = 1\n",
    "student_grade_1 = 1\n",
    "student_detail_1 = [{'gender':'male'},{'score1':95},{'score2':88}]"
   ]
  },
  {
   "cell_type": "code",
   "execution_count": 5,
   "metadata": {},
   "outputs": [],
   "source": [
    "# 학생 2\n",
    "student_name_2 = \"Park\"\n",
    "student_number_2 = 2\n",
    "student_grade_2 = 2\n",
    "student_detail_2 = [{'gender':'female'},{'score1':75},{'score2':68}]"
   ]
  },
  {
   "cell_type": "code",
   "execution_count": 6,
   "metadata": {},
   "outputs": [],
   "source": [
    "# 학생 3\n",
    "student_name_3 = \"Choi\"\n",
    "student_number_3 = 3\n",
    "student_grade_3 = 3\n",
    "student_detail_3 = [{'gender':'male'},{'score1':99},{'score2':89}]"
   ]
  },
  {
   "cell_type": "code",
   "execution_count": 10,
   "metadata": {},
   "outputs": [
    {
     "name": "stdout",
     "output_type": "stream",
     "text": [
      "이름 : Kim, 학번 : 1, 학년 : 1, 학생정보 : [{'gender': 'male'}, {'score1': 95}, {'score2': 88}]\n",
      "이름 : Park, 학번 : 2, 학년 : 2, 학생정보 : [{'gender': 'female'}, {'score1': 75}, {'score2': 68}]\n",
      "이름 : Choi, 학번 : 3, 학년 : 3, 학생정보 : [{'gender': 'male'}, {'score1': 99}, {'score2': 89}]\n"
     ]
    }
   ],
   "source": [
    "#학생 정보 출력\n",
    "print(\"이름 : %s, 학번 : %d, 학년 : %d, 학생정보 : %s\" %\n",
    "      (student_name_1,student_number_1,student_grade_1,student_detail_1))\n",
    "print(\"이름 : %s, 학번 : %d, 학년 : %d, 학생정보 : %s\" %\n",
    "      (student_name_2,student_number_2,student_grade_2,student_detail_2))\n",
    "print(\"이름 : %s, 학번 : %d, 학년 : %d, 학생정보 : %s\" %\n",
    "      (student_name_3,student_number_3,student_grade_3,student_detail_3))"
   ]
  },
  {
   "cell_type": "markdown",
   "metadata": {},
   "source": [
    "### 개선 - 전체 list 구조로 처리"
   ]
  },
  {
   "cell_type": "code",
   "execution_count": 11,
   "metadata": {},
   "outputs": [],
   "source": [
    "student_names_list = ['Kim','Park','Choi']\n",
    "student_numbers_list = [1,2,3]\n",
    "student_grade_list=[1,2,3]\n",
    "student_details_list=[\n",
    "    {'gender': 'male', 'score1': 95, 'score2': 88},\n",
    "    {'gender': 'female', 'score1': 75, 'score2': 68},\n",
    "    {'gender': 'male', 'score1': 99, 'score2': 89}\n",
    "]"
   ]
  },
  {
   "cell_type": "code",
   "execution_count": 12,
   "metadata": {},
   "outputs": [
    {
     "name": "stdout",
     "output_type": "stream",
     "text": [
      "['Kim', 'Park', 'Choi']\n",
      "[1, 2, 3]\n"
     ]
    }
   ],
   "source": [
    "print(student_names_list)\n",
    "print(student_grade_list)"
   ]
  },
  {
   "cell_type": "code",
   "execution_count": 13,
   "metadata": {},
   "outputs": [],
   "source": [
    "del student_names_list[1]\n",
    "del student_numbers_list[1]\n",
    "del student_grade_list[1]\n",
    "del student_details_list[1]"
   ]
  },
  {
   "cell_type": "markdown",
   "metadata": {},
   "source": [
    "### 개선 - dict"
   ]
  },
  {
   "cell_type": "code",
   "execution_count": 14,
   "metadata": {},
   "outputs": [],
   "source": [
    "student_dicts = [\n",
    "    {'이름' : 'Kim', '학번' : 1, '학년' : 1, '학생정보' : {'gender': 'male', 'score1': 95, 'score2': 88}},\n",
    "    {'이름' : 'Park', '학번' : 2, '학년' : 2, '학생정보' : {'gender': 'female', 'score1': 75, 'score2': 68}},\n",
    "    {'이름' : 'Choi', '학번' : 3, '학년' : 3, '학생정보' : {'gender': 'male', 'score1': 99, 'score2': 89}}\n",
    "]"
   ]
  },
  {
   "cell_type": "code",
   "execution_count": null,
   "metadata": {},
   "outputs": [],
   "source": [
    "del student_dicts[1]"
   ]
  },
  {
   "cell_type": "markdown",
   "metadata": {},
   "source": [
    "### 클래스 - 재사용성 증가, 코드 반복 최소화, 메소드 이용"
   ]
  },
  {
   "cell_type": "code",
   "execution_count": 9,
   "metadata": {},
   "outputs": [],
   "source": [
    "class Student:\n",
    "    def __init__(self, name, number, grade, details): #생성자  # self 반드시 존재(인스턴스 메소드) / java의 this.과 동일\n",
    "        self._name = name\n",
    "        self._number = number\n",
    "        self._grade = grade\n",
    "        self._details = details\n",
    "    \n",
    "#     def __str__(self): # java의 toString() 기능\n",
    "#         return 'str : {}'.format(self._name)\n",
    "    \n",
    "    def __repr__(self): #__str__ 대안 __repr__\n",
    "        return \"str :{} :{}\".format(self._name, self._number)"
   ]
  },
  {
   "cell_type": "code",
   "execution_count": 10,
   "metadata": {},
   "outputs": [],
   "source": [
    "# 객체 생성\n",
    "\n",
    "student1 = Student('Kim',1,1,{'gender': 'male', 'score1': 95, 'score2': 88})\n",
    "student2 = Student('Park',2,2,{'gender': 'female', 'score1': 75, 'score2': 68})\n",
    "student3 = Student('Choi',3,3,{'gender': 'male', 'score1': 99, 'score2': 89})"
   ]
  },
  {
   "cell_type": "code",
   "execution_count": 11,
   "metadata": {},
   "outputs": [
    {
     "name": "stdout",
     "output_type": "stream",
     "text": [
      "str :Kim :1\n",
      "str :Park :2\n",
      "str :Choi :3\n"
     ]
    }
   ],
   "source": [
    "print(student1)\n",
    "print(student2)\n",
    "print(student3)"
   ]
  },
  {
   "cell_type": "code",
   "execution_count": 12,
   "metadata": {},
   "outputs": [
    {
     "name": "stdout",
     "output_type": "stream",
     "text": [
      "['__class__', '__delattr__', '__dict__', '__dir__', '__doc__', '__eq__', '__format__', '__ge__', '__getattribute__', '__gt__', '__hash__', '__init__', '__init_subclass__', '__le__', '__lt__', '__module__', '__ne__', '__new__', '__reduce__', '__reduce_ex__', '__repr__', '__setattr__', '__sizeof__', '__str__', '__subclasshook__', '__weakref__', '_details', '_grade', '_name', '_number']\n"
     ]
    }
   ],
   "source": [
    "print(dir(student1))"
   ]
  },
  {
   "cell_type": "code",
   "execution_count": 5,
   "metadata": {},
   "outputs": [
    {
     "name": "stdout",
     "output_type": "stream",
     "text": [
      "{'_name': 'Kim', '_number': 1, '_grade': 1, '_details': {'gender': 'male', 'score1': 95, 'score2': 88}}\n"
     ]
    }
   ],
   "source": [
    "# __dict__ : 클래스 인스턴스 값 확인 시 사용\n",
    "print(student1.__dict__)"
   ]
  },
  {
   "cell_type": "code",
   "execution_count": 13,
   "metadata": {},
   "outputs": [],
   "source": [
    "class UserInfo:\n",
    "    \"\"\"\n",
    "    UserInfo class\n",
    "    Author : Hong\n",
    "    Date : 2020.02.23\n",
    "    Description : Class 작성법\n",
    "    \"\"\"\n",
    "    \n",
    "    def user_info(self): # 인스턴스 메소드: self를 인자로 가지고 있어야 함\n",
    "        print(\"메소드 실행\")"
   ]
  },
  {
   "cell_type": "code",
   "execution_count": 16,
   "metadata": {},
   "outputs": [],
   "source": [
    "#객체 생성\n",
    "user1 = UserInfo()"
   ]
  },
  {
   "cell_type": "code",
   "execution_count": 17,
   "metadata": {},
   "outputs": [
    {
     "name": "stdout",
     "output_type": "stream",
     "text": [
      "메소드 실행\n"
     ]
    }
   ],
   "source": [
    "#메소드 호출\n",
    "user1.user_info()"
   ]
  },
  {
   "cell_type": "code",
   "execution_count": 18,
   "metadata": {},
   "outputs": [],
   "source": [
    "class Car: # 인스턴스 변수  / __init__이 들어오면 안써도 됨\n",
    "    color = \"\"\n",
    "    speed = 0\n",
    "    \n",
    "    def upSpeed(self, value):\n",
    "        self.speed += value\n",
    "        \n",
    "    def downSpeed(self, value):\n",
    "        self.speed -= value"
   ]
  },
  {
   "cell_type": "code",
   "execution_count": 19,
   "metadata": {},
   "outputs": [],
   "source": [
    "myCar1 = Car()\n",
    "myCar1.color = \"Red\"\n",
    "myCar1.speed = 10\n",
    "\n",
    "myCar2 = Car()\n",
    "myCar2.color = \"Black\"\n",
    "myCar2.speed = 20\n",
    "\n",
    "myCar3 = Car()\n",
    "myCar3.color = \"White\"\n",
    "myCar3.speed = 30"
   ]
  },
  {
   "cell_type": "code",
   "execution_count": 22,
   "metadata": {},
   "outputs": [
    {
     "name": "stdout",
     "output_type": "stream",
     "text": [
      "myCar1의 색상은 Red이며, 현재 속도는 10 km 입니다.\n",
      "myCar2의 색상은 Black이며, 현재 속도는 20 km 입니다.\n",
      "myCar3의 색상은 White이며, 현재 속도는 30 km 입니다.\n"
     ]
    }
   ],
   "source": [
    "print(\"myCar1의 색상은 {}이며, 현재 속도는 {} km 입니다.\".format(myCar1.color,myCar1.speed))\n",
    "print(\"myCar2의 색상은 {}이며, 현재 속도는 {} km 입니다.\".format(myCar2.color,myCar2.speed))\n",
    "print(\"myCar3의 색상은 {}이며, 현재 속도는 {} km 입니다.\".format(myCar3.color,myCar3.speed))"
   ]
  },
  {
   "cell_type": "code",
   "execution_count": 23,
   "metadata": {},
   "outputs": [],
   "source": [
    "class UserInfo:\n",
    "    \"\"\"\n",
    "    UserInfo class\n",
    "    Author : Hong\n",
    "    Date : 2020.02.23\n",
    "    Description : Class 작성법\n",
    "    \"\"\"\n",
    "    def __init__(self):\n",
    "        self.name = \"홍길동\"\n",
    "        self.age = 25\n",
    "        \n",
    "    def user_info(self): # 인스턴스 메소드: self를 인자로 가지고 있어야 함\n",
    "        return \"name : {}, age : {}\".format(self.name, self.age)"
   ]
  },
  {
   "cell_type": "code",
   "execution_count": 25,
   "metadata": {},
   "outputs": [
    {
     "name": "stdout",
     "output_type": "stream",
     "text": [
      "name : 홍길동, age : 25\n"
     ]
    }
   ],
   "source": [
    "user1 = UserInfo()\n",
    "\n",
    "print(user1.user_info())"
   ]
  },
  {
   "cell_type": "code",
   "execution_count": 27,
   "metadata": {},
   "outputs": [],
   "source": [
    "class Calculator:\n",
    "    def __init__(self):\n",
    "        self.result = 0\n",
    "        \n",
    "    def addr(self, num):\n",
    "        self.result += num\n",
    "        return self.result"
   ]
  },
  {
   "cell_type": "code",
   "execution_count": 28,
   "metadata": {},
   "outputs": [
    {
     "name": "stdout",
     "output_type": "stream",
     "text": [
      "cal1 : 10\n",
      "cal2 : 100\n"
     ]
    }
   ],
   "source": [
    "cal1 = Calculator()\n",
    "cal2 = Calculator()\n",
    "\n",
    "print(\"cal1 : {}\".format(cal1.addr(10)))\n",
    "print(\"cal2 : {}\".format(cal2.addr(100)))"
   ]
  },
  {
   "cell_type": "code",
   "execution_count": 30,
   "metadata": {},
   "outputs": [],
   "source": [
    "class Calculator:\n",
    "    def __init__(self,result):\n",
    "        self.result = result\n",
    "        \n",
    "    def addr(self, num): \n",
    "        self.result += num\n",
    "        return self.result"
   ]
  },
  {
   "cell_type": "code",
   "execution_count": 31,
   "metadata": {},
   "outputs": [
    {
     "name": "stdout",
     "output_type": "stream",
     "text": [
      "cal1 : 10\n",
      "cal2 : 100\n"
     ]
    }
   ],
   "source": [
    "cal1 = Calculator(0)\n",
    "cal2 = Calculator(0)\n",
    "\n",
    "print(\"cal1 : {}\".format(cal1.addr(10)))\n",
    "print(\"cal2 : {}\".format(cal2.addr(100)))"
   ]
  },
  {
   "cell_type": "code",
   "execution_count": 40,
   "metadata": {},
   "outputs": [],
   "source": [
    "class UserInfo:\n",
    "    \"\"\"\n",
    "    UserInfo class\n",
    "    Author : Hong\n",
    "    Date : 2020.02.23\n",
    "    Description : Class 작성법\n",
    "    \"\"\"\n",
    "    \n",
    "    user_count = 0\n",
    "    \n",
    "    def __init__(self,name,age):\n",
    "        self.name = name\n",
    "        self.age = age\n",
    "        \n",
    "        # 클래스 변수\n",
    "        UserInfo.user_count += 1\n",
    "        \n",
    "    def user_info(self): # 인스턴스 메소드: self를 인자로 가지고 있어야 함\n",
    "        return \"name : {}, age : {}\".format(self.name, self.age)\n",
    "    \n",
    "    def __del__(self): #del 시 호출됨\n",
    "        UserInfo.user_count -= 1"
   ]
  },
  {
   "cell_type": "code",
   "execution_count": 41,
   "metadata": {},
   "outputs": [],
   "source": [
    "user1 = UserInfo(\"홍길동\", 30)\n",
    "user2 = UserInfo(\"동길홍\", 40)"
   ]
  },
  {
   "cell_type": "code",
   "execution_count": 42,
   "metadata": {},
   "outputs": [
    {
     "name": "stdout",
     "output_type": "stream",
     "text": [
      "name : 홍길동, age : 30\n",
      "name : 동길홍, age : 40\n"
     ]
    }
   ],
   "source": [
    "print(user1.user_info())\n",
    "print(user2.user_info())"
   ]
  },
  {
   "cell_type": "code",
   "execution_count": 43,
   "metadata": {},
   "outputs": [
    {
     "name": "stdout",
     "output_type": "stream",
     "text": [
      "생성된 user : 2명\n",
      "생성된 user : 2명\n"
     ]
    }
   ],
   "source": [
    "# 클래스 변수\n",
    "\n",
    "print(\"생성된 user : {}명\".format(UserInfo.user_count)) #클래스변수로 직접접근\n",
    "print(\"생성된 user : {}명\".format(user2.user_count))"
   ]
  },
  {
   "cell_type": "code",
   "execution_count": 44,
   "metadata": {},
   "outputs": [
    {
     "name": "stdout",
     "output_type": "stream",
     "text": [
      "['__class__', '__del__', '__delattr__', '__dict__', '__dir__', '__doc__', '__eq__', '__format__', '__ge__', '__getattribute__', '__gt__', '__hash__', '__init__', '__init_subclass__', '__le__', '__lt__', '__module__', '__ne__', '__new__', '__reduce__', '__reduce_ex__', '__repr__', '__setattr__', '__sizeof__', '__str__', '__subclasshook__', '__weakref__', 'age', 'name', 'user_count', 'user_info']\n",
      "\n",
      "['__class__', '__del__', '__delattr__', '__dict__', '__dir__', '__doc__', '__eq__', '__format__', '__ge__', '__getattribute__', '__gt__', '__hash__', '__init__', '__init_subclass__', '__le__', '__lt__', '__module__', '__ne__', '__new__', '__reduce__', '__reduce_ex__', '__repr__', '__setattr__', '__sizeof__', '__str__', '__subclasshook__', '__weakref__', 'user_count', 'user_info']\n"
     ]
    }
   ],
   "source": [
    "print(dir(user1))\n",
    "print()\n",
    "print(dir(UserInfo))"
   ]
  },
  {
   "cell_type": "code",
   "execution_count": 45,
   "metadata": {},
   "outputs": [],
   "source": [
    "del user1"
   ]
  },
  {
   "cell_type": "code",
   "execution_count": 46,
   "metadata": {},
   "outputs": [
    {
     "name": "stdout",
     "output_type": "stream",
     "text": [
      "생성된 user : 1명\n"
     ]
    }
   ],
   "source": [
    "print(\"생성된 user : {}명\".format(UserInfo.user_count)) # __del__ 호출됨"
   ]
  },
  {
   "cell_type": "code",
   "execution_count": 47,
   "metadata": {},
   "outputs": [],
   "source": [
    "class Car:\n",
    "    car_count = 0 #클래스 변수\n",
    "    \n",
    "    #생성자\n",
    "    def __init__(self, count, color, speed):\n",
    "        #인스턴스 변수\n",
    "        self.color = color\n",
    "        self.speed = speed\n",
    "        #클래스 변수\n",
    "        Car.car_count += count\n",
    "        \n",
    "    #인스턴스 메소드\n",
    "    def upSpeed(self, value):\n",
    "        self.speed += value\n",
    "        \n",
    "    def downSpeed(self,value):\n",
    "        self.speed -= value\n",
    "        \n",
    "    def __del__(self):\n",
    "        Car.car_count -= 1"
   ]
  },
  {
   "cell_type": "code",
   "execution_count": 49,
   "metadata": {},
   "outputs": [
    {
     "name": "stdout",
     "output_type": "stream",
     "text": [
      "car1 의 현재 속도는 20km, 색상은 Red, 생산된 자동차 숫자는 총 1대\n",
      "car1 의 현재 속도는 40km, 색상은 Blue, 생산된 자동차 숫자는 총 2대\n",
      "car1 의 현재 속도는 40km, 색상은 Black, 생산된 자동차 숫자는 총 3대\n"
     ]
    }
   ],
   "source": [
    "car1 = Car(1, 'Red', 10)\n",
    "car1.upSpeed(10)\n",
    "print(\"car1 의 현재 속도는 {}km, 색상은 {}, 생산된 자동차 숫자는 총 {}대\"\n",
    "      .format(car1.speed, car1.color, Car.car_count))\n",
    "\n",
    "car2 = Car(1, 'Blue', 20)\n",
    "car2.upSpeed(20)\n",
    "print(\"car1 의 현재 속도는 {}km, 색상은 {}, 생산된 자동차 숫자는 총 {}대\"\n",
    "      .format(car2.speed, car2.color, Car.car_count))\n",
    "\n",
    "car3 = Car(1, 'Black', 30)\n",
    "car3.upSpeed(10)\n",
    "print(\"car1 의 현재 속도는 {}km, 색상은 {}, 생산된 자동차 숫자는 총 {}대\"\n",
    "      .format(car3.speed, car3.color, Car.car_count))"
   ]
  },
  {
   "cell_type": "code",
   "execution_count": 50,
   "metadata": {},
   "outputs": [
    {
     "name": "stdout",
     "output_type": "stream",
     "text": [
      "2\n"
     ]
    }
   ],
   "source": [
    "del car3\n",
    "print(Car.car_count)"
   ]
  },
  {
   "cell_type": "code",
   "execution_count": 51,
   "metadata": {},
   "outputs": [
    {
     "name": "stdout",
     "output_type": "stream",
     "text": [
      "{'color': 'Red', 'speed': 20}\n"
     ]
    }
   ],
   "source": [
    "print(car1.__dict__) #객체가 가지고 있는 인스턴스 갓을 dict 형태로 출력"
   ]
  },
  {
   "cell_type": "code",
   "execution_count": null,
   "metadata": {},
   "outputs": [],
   "source": []
  },
  {
   "cell_type": "code",
   "execution_count": 52,
   "metadata": {},
   "outputs": [],
   "source": [
    "class SelfTest:\n",
    "    def function1(): #클래스 메소드\n",
    "        print(\"function1 called\")\n",
    "    \n",
    "    def function2(self): #인스턴스 메소드\n",
    "        print(\"function2 called\")"
   ]
  },
  {
   "cell_type": "code",
   "execution_count": 57,
   "metadata": {},
   "outputs": [
    {
     "name": "stdout",
     "output_type": "stream",
     "text": [
      "function1 called\n",
      "function2 called\n"
     ]
    }
   ],
   "source": [
    "self1 = SelfTest()\n",
    "#self1.function1() #TypeError: function1() takes 0 positional arguments but 1 was given\n",
    "SelfTest.function1()\n",
    "self1.function2()"
   ]
  },
  {
   "cell_type": "code",
   "execution_count": 58,
   "metadata": {},
   "outputs": [
    {
     "name": "stdout",
     "output_type": "stream",
     "text": [
      "function2 called\n"
     ]
    }
   ],
   "source": [
    "SelfTest.function2(self1)"
   ]
  },
  {
   "cell_type": "code",
   "execution_count": 73,
   "metadata": {},
   "outputs": [],
   "source": [
    "class UserInfo:\n",
    "    \"\"\"\n",
    "    UserInfo class\n",
    "    Author : Hong\n",
    "    Date : 2020.02.23\n",
    "    Description : Class 작성법\n",
    "    \"\"\"\n",
    "    # 생성자 : 생성자 오버로딩 개념 없음\n",
    "    # email=\"xxx@gmail.com\" 초깃값 설정하거나 email=None 으로 설정하는 방법이 있음\n",
    "    \n",
    "    def __init__(self,name,age,email=None):\n",
    "        self.name = name\n",
    "        self.age = age\n",
    "        self.email = email\n",
    "        \n",
    "    def user_info(self): # 인스턴스 메소드: self를 인자로 가지고 있어야 함\n",
    "        return \"name : {}, age : {}, email : {}\".format(self.name, self.age,self.email)"
   ]
  },
  {
   "cell_type": "code",
   "execution_count": 74,
   "metadata": {},
   "outputs": [],
   "source": [
    "user1 = UserInfo(\"홍길동\",30,'hong@gmail.com')\n",
    "user2 = UserInfo(\"동길홍\",25)"
   ]
  },
  {
   "cell_type": "code",
   "execution_count": 75,
   "metadata": {},
   "outputs": [
    {
     "name": "stdout",
     "output_type": "stream",
     "text": [
      "name : 홍길동, age : 30, email : hong@gmail.com\n",
      "name : 동길홍, age : 25, email : None\n"
     ]
    }
   ],
   "source": [
    "print(user1.user_info())\n",
    "print(user2.user_info())"
   ]
  },
  {
   "cell_type": "code",
   "execution_count": 86,
   "metadata": {},
   "outputs": [
    {
     "name": "stdout",
     "output_type": "stream",
     "text": [
      "10 + 5 = 15\n",
      "10 - 5 = 5\n",
      "10 * 5 = 50\n",
      "10 / 5 = 2.0\n"
     ]
    }
   ],
   "source": [
    "# 클래스명은 FourCal\n",
    "# 4개의 메소드로 구성 => hap, sub, mul, div => 결과값 리턴\n",
    "# 생성자 사용(num1, num2)\n",
    "\n",
    "class FourCal:\n",
    "    def __init__(self, num1, num2):\n",
    "        self.num1 = num1\n",
    "        self.num2 = num2\n",
    "        \n",
    "    def hap(self):\n",
    "            return self.num1 + self.num2\n",
    "    def sub(self):\n",
    "            return self.num1 - self.num2\n",
    "    def mul(self):\n",
    "            return self.num1 * self.num2\n",
    "    def div(self):\n",
    "            return self.num1 / self.num2\n",
    "\n",
    "# 객체생성 후 테스트\n",
    "num1 , num2 = 10,5\n",
    "four1 = FourCal(num1, num2)\n",
    "\n",
    "print(\"{} + {} = {}\".format(num1,num2, four1.hap()))\n",
    "print(\"{} - {} = {}\".format(num1,num2, four1.sub()))\n",
    "print(\"{} * {} = {}\".format(num1,num2, four1.mul()))\n",
    "print(\"{} / {} = {}\".format(num1,num2, four1.div()))"
   ]
  },
  {
   "cell_type": "code",
   "execution_count": 89,
   "metadata": {},
   "outputs": [
    {
     "name": "stdout",
     "output_type": "stream",
     "text": [
      "홍길동 : 150000\n",
      "성춘향 : 180000\n"
     ]
    }
   ],
   "source": [
    "# Account 클래스 작성\n",
    "# 생성자 (accNo, name, balance) addNo : 계좌번호, name : 예금주명, balance :잔액\n",
    "# withdraw(amount) : 출금 기능\n",
    "# deposit(amount) : 입금 기능\n",
    "# __str__ : 현재 예금주명, 잔액 출력\n",
    "class Account:\n",
    "    def __init__(self, accNo, name, balance):\n",
    "        self.accNo = accNo\n",
    "        self.name = name\n",
    "        self.balance = balance\n",
    "        \n",
    "    def withdraw(self,amount):\n",
    "        self.balance -= amount\n",
    "        return self.balance\n",
    "    \n",
    "    def deposit(self,amount):\n",
    "        self.balance += amount\n",
    "        return self.balance\n",
    "    \n",
    "    def __str__(self):\n",
    "        return \"{} : {}\".format(self.name, self.balance)\n",
    "    \n",
    "\n",
    "# 객체 생성 후 테스트\n",
    "user1 = Account(\"111-11-1111\",\"홍길동\",100000)\n",
    "user2 = Account(\"222-22-2222\", \"성춘향\",200000)\n",
    "\n",
    "user1.deposit(50000)\n",
    "print(user1) #__str__ 오버라이딩\n",
    "\n",
    "user2.withdraw(20000)\n",
    "print(user2)"
   ]
  },
  {
   "cell_type": "code",
   "execution_count": null,
   "metadata": {},
   "outputs": [],
   "source": [
    "# Audio 클래스\n",
    "# 생성자(power, volume)\n",
    "# switch(on_off) : on_off 값을 넘겨받아 power 인스턴스 변수 값 변경\n",
    "# setVolume(vol) : vol 값을 넘겨받아 volume 값 변경\n",
    "# tune() : power 값이 true 라면 \"La La La ...\"라는 문자열 출력\n",
    "#          false 라면 \"turn it on\" 이라는 문자열 출력\n",
    "class Audio:\n",
    "    def __init__(self, power, volume):\n",
    "        self.power = power\n",
    "        self.volume = volume\n",
    "    \n",
    "    def switch(self.on_off):\n",
    "        self.power = volume\n",
    "        \n",
    "    def setVolume(self.vol):\n",
    "        self.volume = vol\n",
    "        \n",
    "    def tune(self):\n",
    "        str = \"La La La ...\" if self.power else \"turn it on\"\n",
    "        print(str)\n",
    "        \n",
    "        \n",
    "# 객체 생성 후 테스트\n",
    "mp3 = Audio(False,8)\n",
    "mp3.setVolume(12)\n",
    "mp3.tune()\n",
    "\n",
    "mp3.switch(True)\n",
    "mp3.tune()\n",
    "\n"
   ]
  },
  {
   "cell_type": "code",
   "execution_count": null,
   "metadata": {},
   "outputs": [],
   "source": []
  },
  {
   "cell_type": "code",
   "execution_count": null,
   "metadata": {},
   "outputs": [],
   "source": []
  },
  {
   "cell_type": "code",
   "execution_count": null,
   "metadata": {},
   "outputs": [],
   "source": []
  },
  {
   "cell_type": "code",
   "execution_count": null,
   "metadata": {},
   "outputs": [],
   "source": []
  },
  {
   "cell_type": "code",
   "execution_count": null,
   "metadata": {},
   "outputs": [],
   "source": []
  }
 ],
 "metadata": {
  "kernelspec": {
   "display_name": "Python 3",
   "language": "python",
   "name": "python3"
  },
  "language_info": {
   "codemirror_mode": {
    "name": "ipython",
    "version": 3
   },
   "file_extension": ".py",
   "mimetype": "text/x-python",
   "name": "python",
   "nbconvert_exporter": "python",
   "pygments_lexer": "ipython3",
   "version": "3.8.5"
  }
 },
 "nbformat": 4,
 "nbformat_minor": 4
}
