{
 "cells": [
  {
   "cell_type": "markdown",
   "metadata": {},
   "source": [
    "### format 함수\n",
    "- %d : 정수\n",
    "- %f : 실수\n",
    "- %s : 문자열\n",
    "- %c : 문자"
   ]
  },
  {
   "cell_type": "code",
   "execution_count": 3,
   "metadata": {},
   "outputs": [
    {
     "name": "stdout",
     "output_type": "stream",
     "text": [
      "100\n",
      "  100\n",
      "00100\n"
     ]
    }
   ],
   "source": [
    "print(\"%d\" % 100) #100을 대입- %\n",
    "print(\"%5d\" % 100) #100대입하고 5자리 출력\n",
    "print(\"%05d\" % 100) #5자리 출력,빈칸은 0으로 채움"
   ]
  },
  {
   "cell_type": "code",
   "execution_count": 4,
   "metadata": {},
   "outputs": [
    {
     "name": "stdout",
     "output_type": "stream",
     "text": [
      "hi\n",
      "   hi\n"
     ]
    }
   ],
   "source": [
    "print(\"%s\" % \"hi\") #hi를 대입\n",
    "print(\"%5s\" % \"hi\") #hi대입하고 5자리 출력"
   ]
  },
  {
   "cell_type": "code",
   "execution_count": 5,
   "metadata": {},
   "outputs": [
    {
     "name": "stdout",
     "output_type": "stream",
     "text": [
      "123.810000\n",
      "  123.81\n",
      "  123.81\n",
      "123.81  \n"
     ]
    }
   ],
   "source": [
    "print(\"%f\" % 123.81) #123.81를 대입 소수점 이하 6자리 출력-기본\n",
    "print(\"%8.2f\" % 123.81) #123.81대입하고 8자리 출력 소수점2자리 \n",
    "print(\"%8.2f\" % 123.81235) #123.81235 대입하고8 자리 출력 소수점2자리\n",
    "print(\"%-8.2f\" % 123.81) #-123.81 뒤로 공백"
   ]
  },
  {
   "cell_type": "code",
   "execution_count": 1,
   "metadata": {},
   "outputs": [
    {
     "name": "stdout",
     "output_type": "stream",
     "text": [
      "I eat 3 apples\n"
     ]
    }
   ],
   "source": [
    "print(\"I eat %d apples\" % 3)"
   ]
  },
  {
   "cell_type": "code",
   "execution_count": 2,
   "metadata": {},
   "outputs": [
    {
     "name": "stdout",
     "output_type": "stream",
     "text": [
      "I eat five apples\n"
     ]
    }
   ],
   "source": [
    "print(\"I eat %s apples\" % \"five\")"
   ]
  },
  {
   "cell_type": "code",
   "execution_count": 5,
   "metadata": {},
   "outputs": [
    {
     "name": "stdout",
     "output_type": "stream",
     "text": [
      "I eat 4 apples\n",
      "I eat 4 apples\n"
     ]
    }
   ],
   "source": [
    "number = 4 #변수 타입없음\n",
    "print(\"I eat\",number,\"apples\")\n",
    "print(\"I eat %d apples\" % number)"
   ]
  },
  {
   "cell_type": "code",
   "execution_count": 8,
   "metadata": {},
   "outputs": [
    {
     "name": "stdout",
     "output_type": "stream",
     "text": [
      "I ate 10 apples. so I was sick for three days\n"
     ]
    }
   ],
   "source": [
    "number = 10\n",
    "day = \"three\"\n",
    "print(\"I ate %d apples. so I was sick for %s days\" % (number,day)) #여러개의 경우 () 묶어서 표현"
   ]
  },
  {
   "cell_type": "code",
   "execution_count": 7,
   "metadata": {},
   "outputs": [
    {
     "name": "stdout",
     "output_type": "stream",
     "text": [
      "hong's favorite number is 7\n"
     ]
    }
   ],
   "source": [
    "print(\"%s's favorite number is %d\" % (\"hong\",7))"
   ]
  },
  {
   "cell_type": "code",
   "execution_count": 9,
   "metadata": {},
   "outputs": [
    {
     "name": "stdout",
     "output_type": "stream",
     "text": [
      "Test1 :   776, Price : 6534.12\n"
     ]
    }
   ],
   "source": [
    "print(\"Test1 : %5d, Price : %4.2f\" % (776,6534.123))"
   ]
  },
  {
   "cell_type": "code",
   "execution_count": 10,
   "metadata": {},
   "outputs": [
    {
     "name": "stdout",
     "output_type": "stream",
     "text": [
      "I eat 3 apples\n",
      "I eat 3.156 apples\n",
      "I eat three apples\n"
     ]
    }
   ],
   "source": [
    "print(\"I eat %s apples\" % 3)\n",
    "print(\"I eat %s apples\" % 3.156)\n",
    "print(\"I eat %s apples\" % \"three\")"
   ]
  },
  {
   "cell_type": "code",
   "execution_count": 12,
   "metadata": {},
   "outputs": [
    {
     "name": "stdout",
     "output_type": "stream",
     "text": [
      "성장율 : 3%\n"
     ]
    }
   ],
   "source": [
    "print(\"성장율 : %d%%\" % 3) # %표현할 경우 %% 사용"
   ]
  },
  {
   "cell_type": "code",
   "execution_count": 13,
   "metadata": {},
   "outputs": [
    {
     "name": "stdout",
     "output_type": "stream",
     "text": [
      "You and Me\n"
     ]
    }
   ],
   "source": [
    "print('{} and {}'.format('You','Me')) # {} 안에 ()값이 대입"
   ]
  },
  {
   "cell_type": "code",
   "execution_count": 14,
   "metadata": {},
   "outputs": [
    {
     "name": "stdout",
     "output_type": "stream",
     "text": [
      "I eat 3 apples\n"
     ]
    }
   ],
   "source": [
    "print(\"I eat {} apples\".format (3))"
   ]
  },
  {
   "cell_type": "code",
   "execution_count": 15,
   "metadata": {},
   "outputs": [
    {
     "name": "stdout",
     "output_type": "stream",
     "text": [
      "I eat 3 apples\n"
     ]
    }
   ],
   "source": [
    "print(\"I eat {0} apples\".format (3)) # {0}번 순서의 (3) 순번이 0번인 갑을 대입"
   ]
  },
  {
   "cell_type": "code",
   "execution_count": 18,
   "metadata": {},
   "outputs": [
    {
     "name": "stdout",
     "output_type": "stream",
     "text": [
      "You and Me and You\n",
      "You and Me and You\n"
     ]
    }
   ],
   "source": [
    "print('{} and {} and {}'.format('You','Me','You')) #순번이 업을경우 {}와 ()의 갯수가 동일해야함\n",
    "print('{0} and {1} and {0}'.format('You','Me'))"
   ]
  },
  {
   "cell_type": "code",
   "execution_count": 19,
   "metadata": {},
   "outputs": [
    {
     "name": "stdout",
     "output_type": "stream",
     "text": [
      "You and Me\n"
     ]
    }
   ],
   "source": [
    "print('{var1} and {var2}'.format(var1='You',var2='Me')) #변수명으로 대입"
   ]
  },
  {
   "cell_type": "code",
   "execution_count": 20,
   "metadata": {},
   "outputs": [
    {
     "name": "stdout",
     "output_type": "stream",
     "text": [
      "I ate 20 apples. so I was sick for 5 days\n"
     ]
    }
   ],
   "source": [
    "print(\"I ate {0} apples. so I was sick for {day} days\".format(20,day=5)) #순번과 변수명 대입"
   ]
  },
  {
   "cell_type": "code",
   "execution_count": null,
   "metadata": {},
   "outputs": [],
   "source": []
  },
  {
   "cell_type": "markdown",
   "metadata": {},
   "source": [
    "### 이스케이프 문자"
   ]
  },
  {
   "cell_type": "code",
   "execution_count": 21,
   "metadata": {},
   "outputs": [
    {
     "name": "stdout",
     "output_type": "stream",
     "text": [
      "\n",
      "줄바꿈\n",
      "문자\n"
     ]
    }
   ],
   "source": [
    "print('\\n줄바꿈\\n문자')"
   ]
  },
  {
   "cell_type": "code",
   "execution_count": 22,
   "metadata": {},
   "outputs": [
    {
     "name": "stdout",
     "output_type": "stream",
     "text": [
      "\t탭키\t연습\n"
     ]
    }
   ],
   "source": [
    "print(\"\\t탭키\\t연습\")"
   ]
  },
  {
   "cell_type": "code",
   "execution_count": 24,
   "metadata": {},
   "outputs": [
    {
     "name": "stdout",
     "output_type": "stream",
     "text": [
      "\\\\\\ 역슬래시 출력\n"
     ]
    }
   ],
   "source": [
    "print(\"\\\\\\\\\\\\ 역슬래시 출력\") #역슬래시 출력시 \\\\으로 입력"
   ]
  },
  {
   "cell_type": "code",
   "execution_count": 26,
   "metadata": {},
   "outputs": [
    {
     "name": "stdout",
     "output_type": "stream",
     "text": [
      "\\n \\t \\\\ 를 그대로 출력\n"
     ]
    }
   ],
   "source": [
    "print(r\"\\n \\t \\\\ 를 그대로 출력\") #r문자열 그대로 출력"
   ]
  },
  {
   "cell_type": "code",
   "execution_count": 28,
   "metadata": {},
   "outputs": [
    {
     "name": "stdout",
     "output_type": "stream",
     "text": [
      "Python's favorite\n"
     ]
    }
   ],
   "source": [
    "print('Python\\'s favorite') #중간 '표현시 \\붙임"
   ]
  },
  {
   "cell_type": "code",
   "execution_count": 29,
   "metadata": {},
   "outputs": [
    {
     "name": "stdout",
     "output_type": "stream",
     "text": [
      "Python's favorite\n"
     ]
    }
   ],
   "source": [
    "print(\"Python's favorite\") #\"\"안의 '사용가능"
   ]
  },
  {
   "cell_type": "code",
   "execution_count": 30,
   "metadata": {},
   "outputs": [
    {
     "name": "stdout",
     "output_type": "stream",
     "text": [
      "Python \"perl\" favorite\n"
     ]
    }
   ],
   "source": [
    "print('Python \"perl\" favorite') # ''안의 \"\" 사용가능"
   ]
  },
  {
   "cell_type": "code",
   "execution_count": null,
   "metadata": {},
   "outputs": [],
   "source": []
  }
 ],
 "metadata": {
  "kernelspec": {
   "display_name": "Python 3",
   "language": "python",
   "name": "python3"
  },
  "language_info": {
   "codemirror_mode": {
    "name": "ipython",
    "version": 3
   },
   "file_extension": ".py",
   "mimetype": "text/x-python",
   "name": "python",
   "nbconvert_exporter": "python",
   "pygments_lexer": "ipython3",
   "version": "3.8.5"
  }
 },
 "nbformat": 4,
 "nbformat_minor": 4
}
