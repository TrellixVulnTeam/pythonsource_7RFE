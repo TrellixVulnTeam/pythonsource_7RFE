{
 "cells": [
  {
   "cell_type": "code",
   "execution_count": 2,
   "metadata": {},
   "outputs": [],
   "source": [
    "# 리스트 생성 \n",
    "\n",
    "list1 = []\n",
    "list2 = ['a','b','c']\n",
    "list3 = ['a','b','c',1,2]\n",
    "list4 = [1,2,3,4,5.5,6.5]\n",
    "list5 = [1,2,['Life','is','short']] #자바의 2차원 배열과 같은개념"
   ]
  },
  {
   "cell_type": "code",
   "execution_count": 3,
   "metadata": {},
   "outputs": [
    {
     "name": "stdout",
     "output_type": "stream",
     "text": [
      "[]\n",
      "['a', 'b', 'c']\n",
      "['a', 'b', 'c', 1, 2]\n",
      "[1, 2, 3, 4, 5.5, 6.5]\n",
      "[1, 2, ['Life', 'is', 'short']]\n"
     ]
    }
   ],
   "source": [
    "# 리스트 사용\n",
    "\n",
    "print(list1)\n",
    "print(list2)\n",
    "print(list3)\n",
    "print(list4)\n",
    "print(list5)"
   ]
  },
  {
   "cell_type": "code",
   "execution_count": 8,
   "metadata": {},
   "outputs": [
    {
     "name": "stdout",
     "output_type": "stream",
     "text": [
      "list2[2] =  c\n",
      "list3[4] =  2\n",
      "list5[2] =  ['Life', 'is', 'short']\n",
      "list4[-1] =  6.5\n",
      "list5[2][2] =  short\n"
     ]
    }
   ],
   "source": [
    "# 리스트 인덱싱\n",
    "\n",
    "print(\"list2[2] = \", list2[2])\n",
    "print(\"list3[4] = \", list3[4])\n",
    "print(\"list5[2] = \", list5[2])\n",
    "print(\"list4[-1] = \", list4[-1]) #-1: 뒤에서부터 인덱싱"
   ]
  },
  {
   "cell_type": "code",
   "execution_count": 9,
   "metadata": {},
   "outputs": [
    {
     "name": "stdout",
     "output_type": "stream",
     "text": [
      "list5[2][0] =  Life\n"
     ]
    }
   ],
   "source": [
    "print(\"list5[2][0] = \", list5[2][0])"
   ]
  },
  {
   "cell_type": "code",
   "execution_count": 11,
   "metadata": {},
   "outputs": [
    {
     "name": "stdout",
     "output_type": "stream",
     "text": [
      "list5[-1] =  ['Life', 'is', 'short']\n",
      "list5[-1][2] =  short\n"
     ]
    }
   ],
   "source": [
    "print(\"list5[-1] = \", list5[-1])\n",
    "print(\"list5[-1][2] = \", list5[-1][2])"
   ]
  },
  {
   "cell_type": "code",
   "execution_count": 17,
   "metadata": {},
   "outputs": [
    {
     "name": "stdout",
     "output_type": "stream",
     "text": [
      "list6 =  is\n",
      "list6 =  is\n",
      "list6 =  is\n"
     ]
    }
   ],
   "source": [
    "list6 = [1,2,['a','b',['life','is']]]\n",
    "\n",
    "# is 출력하기\n",
    "print(\"list6 = \", list6[2][2][1])\n",
    "print(\"list6 = \", list6[-1][-1][-1])\n",
    "print(\"list6 = \", list6[2][-1][-1])"
   ]
  },
  {
   "cell_type": "code",
   "execution_count": 19,
   "metadata": {},
   "outputs": [
    {
     "name": "stdout",
     "output_type": "stream",
     "text": [
      "[1, 2, 3, 4, 5, 6]\n",
      "[1, 2, 3, 'a', 'b', 'c']\n",
      "6\n"
     ]
    }
   ],
   "source": [
    "# 연산자 : +(연결), *(반복)\n",
    "\n",
    "a=[1,2,3]\n",
    "b=[4,5,6]\n",
    "c=['a','b','c']\n",
    "\n",
    "print(a+b)\n",
    "print(a+c)\n",
    "print(a[0]+b[1]) # 산술연산"
   ]
  },
  {
   "cell_type": "code",
   "execution_count": 21,
   "metadata": {},
   "outputs": [
    {
     "name": "stdout",
     "output_type": "stream",
     "text": [
      "[1, 2, 3, 1, 2, 3, 1, 2, 3]\n",
      "3\n"
     ]
    }
   ],
   "source": [
    "print(a*3)\n",
    "print(a[0]*3)# 산술연산"
   ]
  },
  {
   "cell_type": "code",
   "execution_count": 24,
   "metadata": {},
   "outputs": [
    {
     "name": "stdout",
     "output_type": "stream",
     "text": [
      "[1, 7, 3]\n",
      "[1, 7, 3]\n",
      "[1, 7, 'life']\n"
     ]
    }
   ],
   "source": [
    "print(a)\n",
    "a[1] = 7\n",
    "print(a)\n",
    "a[2] = 'life'\n",
    "print(a)"
   ]
  },
  {
   "cell_type": "code",
   "execution_count": 26,
   "metadata": {},
   "outputs": [],
   "source": [
    "str1 = \"abcd\"\n",
    "#str1[0] = 'e' #문자열은 인덱싱 변경이 불가"
   ]
  },
  {
   "cell_type": "code",
   "execution_count": 28,
   "metadata": {},
   "outputs": [
    {
     "name": "stdout",
     "output_type": "stream",
     "text": [
      "[4, 5, 6]\n",
      "[4, 10, 11, 6]\n"
     ]
    }
   ],
   "source": [
    "print(b)\n",
    "b[1:2] = [10,11] #1번에서 2번 범위형태로 리스트 추가\n",
    "print(b)"
   ]
  },
  {
   "cell_type": "code",
   "execution_count": 29,
   "metadata": {},
   "outputs": [
    {
     "name": "stdout",
     "output_type": "stream",
     "text": [
      "[4, 10, 11, 6]\n",
      "[4, [15, 16, 17], 11, 6]\n"
     ]
    }
   ],
   "source": [
    "print(b)\n",
    "b[1] = [15,16,17] #1번 자리에 범위가 아닌 인덱스 형태로 리스트 추가하\n",
    "print(b)"
   ]
  },
  {
   "cell_type": "code",
   "execution_count": 31,
   "metadata": {},
   "outputs": [
    {
     "name": "stdout",
     "output_type": "stream",
     "text": [
      "[1, 7, 'life']\n",
      "[1, 'life']\n"
     ]
    }
   ],
   "source": [
    "print(a)\n",
    "del a[1] #1번 자리 삭제\n",
    "print(a)"
   ]
  },
  {
   "cell_type": "code",
   "execution_count": 32,
   "metadata": {},
   "outputs": [
    {
     "name": "stdout",
     "output_type": "stream",
     "text": [
      "[4, [15, 16, 17], 11, 6]\n",
      "[4, 6]\n"
     ]
    }
   ],
   "source": [
    "print(b)\n",
    "b[1:3] = [] # 1번~2번 삭제 \n",
    "print(b)"
   ]
  },
  {
   "cell_type": "code",
   "execution_count": null,
   "metadata": {},
   "outputs": [],
   "source": []
  },
  {
   "cell_type": "code",
   "execution_count": null,
   "metadata": {},
   "outputs": [],
   "source": []
  },
  {
   "cell_type": "code",
   "execution_count": null,
   "metadata": {},
   "outputs": [],
   "source": []
  }
 ],
 "metadata": {
  "kernelspec": {
   "display_name": "Python 3",
   "language": "python",
   "name": "python3"
  },
  "language_info": {
   "codemirror_mode": {
    "name": "ipython",
    "version": 3
   },
   "file_extension": ".py",
   "mimetype": "text/x-python",
   "name": "python",
   "nbconvert_exporter": "python",
   "pygments_lexer": "ipython3",
   "version": "3.8.5"
  }
 },
 "nbformat": 4,
 "nbformat_minor": 4
}
