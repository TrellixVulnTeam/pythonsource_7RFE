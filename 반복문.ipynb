{
 "cells": [
  {
   "cell_type": "markdown",
   "metadata": {},
   "source": [
    "## while문"
   ]
  },
  {
   "cell_type": "code",
   "execution_count": 1,
   "metadata": {},
   "outputs": [
    {
     "name": "stdout",
     "output_type": "stream",
     "text": [
      "1 2 3 4 5 6 7 8 9 10 "
     ]
    }
   ],
   "source": [
    "i = 1\n",
    "while i < 11:\n",
    "    print(i,end=\" \") #다음행 (엔터)가 아닌 일렬로 출력시\n",
    "    i = i+1 # i++,++i 사용불가"
   ]
  },
  {
   "cell_type": "code",
   "execution_count": 13,
   "metadata": {},
   "outputs": [
    {
     "name": "stdout",
     "output_type": "stream",
     "text": [
      "2 4 6 8 10 12 14 16 18 20 22 24 26 28 30 32 34 36 38 40 42 44 46 48 50 52 54 56 58 60 62 64 66 68 70 72 74 76 78 80 82 84 86 88 90 92 94 96 98 "
     ]
    }
   ],
   "source": [
    "# 1~100 짝수\n",
    "i = 2\n",
    "while i < 101:\n",
    "    print(i,end=\" \")\n",
    "    i += 2"
   ]
  },
  {
   "cell_type": "code",
   "execution_count": 16,
   "metadata": {},
   "outputs": [
    {
     "name": "stdout",
     "output_type": "stream",
     "text": [
      "1 3 5 7 9 11 13 15 17 19 21 23 25 27 29 31 33 35 37 39 41 43 45 47 49 51 53 55 57 59 61 63 65 67 69 71 73 75 77 79 81 83 85 87 89 91 93 95 97 99 "
     ]
    }
   ],
   "source": [
    "# 1~100 홀수\n",
    "i = 0\n",
    "while i < 101:\n",
    "    if i % 2 == 1:\n",
    "        print(i,end=\" \")\n",
    "    i += 1"
   ]
  },
  {
   "cell_type": "code",
   "execution_count": 16,
   "metadata": {},
   "outputs": [
    {
     "name": "stdout",
     "output_type": "stream",
     "text": [
      "1~100 까지의 합 :  5050\n"
     ]
    }
   ],
   "source": [
    "# 1~100까지 합계를 구한 후 출력하기\n",
    "hap,i = 0,0\n",
    "while i < 101:\n",
    "    hap += i\n",
    "    i += 1\n",
    "print(\"1~100 까지의 합 : \", hap)"
   ]
  },
  {
   "cell_type": "code",
   "execution_count": 19,
   "metadata": {},
   "outputs": [
    {
     "name": "stdout",
     "output_type": "stream",
     "text": [
      "3 * 1 = 3\n",
      "3 * 2 = 6\n",
      "3 * 3 = 9\n",
      "3 * 4 = 12\n",
      "3 * 5 = 15\n",
      "3 * 6 = 18\n",
      "3 * 7 = 21\n",
      "3 * 8 = 24\n",
      "3 * 9 = 27\n"
     ]
    }
   ],
   "source": [
    "# 구구단 출력\n",
    "i = 1\n",
    "while i <= 9:\n",
    "    print(\"%d * %d = %d\" % (3,i,(3*i)))\n",
    "    i += 1"
   ]
  },
  {
   "cell_type": "code",
   "execution_count": 7,
   "metadata": {},
   "outputs": [
    {
     "name": "stdout",
     "output_type": "stream",
     "text": [
      "입력을 중단하고 싶으면 q 입력안녕하세요\n",
      "데이터 입력 : 반갑습니다\n",
      "반갑습니다\n",
      "데이터 입력 : q\n",
      "q\n"
     ]
    }
   ],
   "source": [
    "# 사용자로부터 q가 입력되기 전까지 입력받는 프로그램 작성\n",
    "input(\"입력을 중단하고 싶으면 q 입력\")\n",
    "\n",
    "data = \"\"\n",
    "while data != \"q\":\n",
    "    data = input(\"데이터 입력 : \")\n",
    "    print(data)"
   ]
  },
  {
   "cell_type": "markdown",
   "metadata": {},
   "source": [
    "## for문"
   ]
  },
  {
   "cell_type": "code",
   "execution_count": 6,
   "metadata": {},
   "outputs": [
    {
     "name": "stdout",
     "output_type": "stream",
     "text": [
      "range(0, 5)\n",
      "[0, 1, 2, 3, 4]\n",
      "[1, 2, 3, 4]\n",
      "[0, 2, 4, 6, 8]\n"
     ]
    }
   ],
   "source": [
    "# range() : 범위지정\n",
    "\n",
    "print(range(5))\n",
    "print(list(range(5)))\n",
    "print(list(range(1,5)))\n",
    "print(list(range(0,10,2)))"
   ]
  },
  {
   "cell_type": "code",
   "execution_count": 5,
   "metadata": {},
   "outputs": [
    {
     "name": "stdout",
     "output_type": "stream",
     "text": [
      "0 1 2 3 4 5 6 7 8 9 "
     ]
    }
   ],
   "source": [
    "# 0~9 까지 출력\n",
    "for i in range(10):\n",
    "    print(i,end=\" \")"
   ]
  },
  {
   "cell_type": "code",
   "execution_count": 4,
   "metadata": {},
   "outputs": [
    {
     "name": "stdout",
     "output_type": "stream",
     "text": [
      "1 2 3 4 5 6 7 8 9 10 "
     ]
    }
   ],
   "source": [
    "# 1~10까지 출력\n",
    "for i in range(1,11):\n",
    "    print(i,end=\" \")"
   ]
  },
  {
   "cell_type": "code",
   "execution_count": 3,
   "metadata": {},
   "outputs": [
    {
     "name": "stdout",
     "output_type": "stream",
     "text": [
      "2 4 6 8 10 "
     ]
    }
   ],
   "source": [
    "# 1~10까지 짝수 출력\n",
    "for i in range(2,11,2):\n",
    "    print(i,end=\" \")"
   ]
  },
  {
   "cell_type": "code",
   "execution_count": 17,
   "metadata": {},
   "outputs": [
    {
     "name": "stdout",
     "output_type": "stream",
     "text": [
      "1~100까지의 합 0\n"
     ]
    }
   ],
   "source": [
    "# 1~100까지 합계를 구한 후 출력하기\n",
    "\n",
    "hap = 0\n",
    "for i in range(101):\n",
    "    sum += i\n",
    "print('1~100까지의 합 %d' % hap)"
   ]
  },
  {
   "cell_type": "code",
   "execution_count": 13,
   "metadata": {},
   "outputs": [
    {
     "name": "stdout",
     "output_type": "stream",
     "text": [
      "숫자를 입력해 주세요100\n",
      "1~100 까지의 합 5050\n"
     ]
    }
   ],
   "source": [
    "# 1~ 사용자가 입력한 숫자까지 합계를 구한 후 출력하기\n",
    "\n",
    "num = int(input(\"숫자를 입력해 주세요\"))+1\n",
    "\n",
    "hap = 0\n",
    "for i in range(1, num):\n",
    "    hap += i\n",
    "print('1~%d 까지의 합 %d' % (num-1,hap)) #sum이란 함수가 있어서 hap 으로 사용"
   ]
  },
  {
   "cell_type": "code",
   "execution_count": 14,
   "metadata": {},
   "outputs": [
    {
     "name": "stdout",
     "output_type": "stream",
     "text": [
      "4 3 2 1 0 "
     ]
    }
   ],
   "source": [
    "for i in range(4,-1,-1):\n",
    "    print(i,end=\" \") #역순출력"
   ]
  },
  {
   "cell_type": "code",
   "execution_count": 18,
   "metadata": {},
   "outputs": [
    {
     "name": "stdout",
     "output_type": "stream",
     "text": [
      "word :  d\n",
      "word :  r\n",
      "word :  e\n",
      "word :  a\n",
      "word :  m\n",
      "word :  s\n"
     ]
    }
   ],
   "source": [
    "word = \"dreams\"\n",
    "for s in word:\n",
    "    print(\"word : \",s)"
   ]
  },
  {
   "cell_type": "code",
   "execution_count": 21,
   "metadata": {},
   "outputs": [
    {
     "name": "stdout",
     "output_type": "stream",
     "text": [
      "0 1 2 \n",
      "0 1 2 \n",
      "0 1 2 \n"
     ]
    }
   ],
   "source": [
    "for i in range(3): #이중 for문 \n",
    "    for j in range(3):\n",
    "        print(j, end=\" \")\n",
    "    print()"
   ]
  },
  {
   "cell_type": "code",
   "execution_count": 20,
   "metadata": {},
   "outputs": [
    {
     "name": "stdout",
     "output_type": "stream",
     "text": [
      "* * * \n",
      "* * * \n",
      "* * * \n"
     ]
    }
   ],
   "source": [
    "for i in range(3): #이중 for문 \n",
    "    for j in range(3):\n",
    "        print(\"*\", end=\" \")\n",
    "    print()"
   ]
  },
  {
   "cell_type": "code",
   "execution_count": 22,
   "metadata": {},
   "outputs": [
    {
     "name": "stdout",
     "output_type": "stream",
     "text": [
      "0 1 2 3 4 \n",
      "1 2 3 4 5 \n",
      "2 3 4 5 6 \n",
      "3 4 5 6 7 \n",
      "4 5 6 7 8 \n"
     ]
    }
   ],
   "source": [
    "for i in range(5): #이중 for문 \n",
    "    for j in range(5):\n",
    "        print(i+j, end=\" \")\n",
    "    print()"
   ]
  },
  {
   "cell_type": "code",
   "execution_count": 26,
   "metadata": {},
   "outputs": [
    {
     "name": "stdout",
     "output_type": "stream",
     "text": [
      "2 * 1 = 2 \t2 * 2 = 4 \t2 * 3 = 6 \t2 * 4 = 8 \t2 * 5 = 10 \t2 * 6 = 12 \t2 * 7 = 14 \t2 * 8 = 16 \t2 * 9 = 18 \t\n",
      "3 * 1 = 3 \t3 * 2 = 6 \t3 * 3 = 9 \t3 * 4 = 12 \t3 * 5 = 15 \t3 * 6 = 18 \t3 * 7 = 21 \t3 * 8 = 24 \t3 * 9 = 27 \t\n",
      "4 * 1 = 4 \t4 * 2 = 8 \t4 * 3 = 12 \t4 * 4 = 16 \t4 * 5 = 20 \t4 * 6 = 24 \t4 * 7 = 28 \t4 * 8 = 32 \t4 * 9 = 36 \t\n",
      "5 * 1 = 5 \t5 * 2 = 10 \t5 * 3 = 15 \t5 * 4 = 20 \t5 * 5 = 25 \t5 * 6 = 30 \t5 * 7 = 35 \t5 * 8 = 40 \t5 * 9 = 45 \t\n",
      "6 * 1 = 6 \t6 * 2 = 12 \t6 * 3 = 18 \t6 * 4 = 24 \t6 * 5 = 30 \t6 * 6 = 36 \t6 * 7 = 42 \t6 * 8 = 48 \t6 * 9 = 54 \t\n",
      "7 * 1 = 7 \t7 * 2 = 14 \t7 * 3 = 21 \t7 * 4 = 28 \t7 * 5 = 35 \t7 * 6 = 42 \t7 * 7 = 49 \t7 * 8 = 56 \t7 * 9 = 63 \t\n",
      "8 * 1 = 8 \t8 * 2 = 16 \t8 * 3 = 24 \t8 * 4 = 32 \t8 * 5 = 40 \t8 * 6 = 48 \t8 * 7 = 56 \t8 * 8 = 64 \t8 * 9 = 72 \t\n",
      "9 * 1 = 9 \t9 * 2 = 18 \t9 * 3 = 27 \t9 * 4 = 36 \t9 * 5 = 45 \t9 * 6 = 54 \t9 * 7 = 63 \t9 * 8 = 72 \t9 * 9 = 81 \t\n"
     ]
    }
   ],
   "source": [
    "# 구구단 2~9단 출력\n",
    "\n",
    "for i in range(2,10): \n",
    "    for j in range(1,10):\n",
    "        print(\"{} * {} = {} \".format(i,j,(i*j)), end=\"\\t\")\n",
    "    print()"
   ]
  },
  {
   "cell_type": "code",
   "execution_count": null,
   "metadata": {},
   "outputs": [],
   "source": []
  },
  {
   "cell_type": "code",
   "execution_count": null,
   "metadata": {},
   "outputs": [],
   "source": []
  }
 ],
 "metadata": {
  "kernelspec": {
   "display_name": "Python 3",
   "language": "python",
   "name": "python3"
  },
  "language_info": {
   "codemirror_mode": {
    "name": "ipython",
    "version": 3
   },
   "file_extension": ".py",
   "mimetype": "text/x-python",
   "name": "python",
   "nbconvert_exporter": "python",
   "pygments_lexer": "ipython3",
   "version": "3.8.5"
  }
 },
 "nbformat": 4,
 "nbformat_minor": 4
}
